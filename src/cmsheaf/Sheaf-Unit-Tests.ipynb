{
 "cells": [
  {
   "cell_type": "code",
   "execution_count": null,
   "metadata": {},
   "outputs": [],
   "source": [
    "from TransversalitySheaf import *\n",
    "from ConleySheaf import *\n",
    "from FlowSheaf import *\n",
    "from pychomp import *"
   ]
  },
  {
   "cell_type": "code",
   "execution_count": null,
   "metadata": {},
   "outputs": [],
   "source": [
    "#   mapping = {}\n",
    "#   #Step 1. Construct the complex for phase space\n",
    "#   bounds,boxes = phase_specs\n",
    "#   geometric_phase_complex = GeometricCubicalComplex(bounds,boxes)\n",
    "#   phase_complex = geometric_phase_complex.complex\n",
    "#   #Step 2. For each cell, compute transversality complex, followed by graded_cell complex\n",
    "#   # 1 . The transversality complex, returns (phase_complex, discrete_flow)\n",
    "#   B = base_complex.complex\n",
    "#   for base_vertex in B(0):\n",
    "#     params = [coord[0] for coord in base_complex.geometry(base_vertex)]\n",
    "#     (C,discrete_flow) = TransversalityComplex(geometric_phase_complex, ODE_model, params, num_samples)\n",
    "#     mapping[base_vertex] = FlowComplex(C,discrete_flow)\n",
    "#     #sheaf_mapping[base_vertex] = FlowGradedComplex(*TransversalityComplex(geometric_phase_complex, ODE_model, params, num_samples))\n",
    "#   return CubicalSheaf(base_complex, lambda x: mapping[x]) "
   ]
  },
  {
   "cell_type": "code",
   "execution_count": null,
   "metadata": {},
   "outputs": [],
   "source": [
    "phase_boxes = [3]\n",
    "phase_bounds = [[0,3]]\n",
    "phase_complex = GeometricCubicalComplex(phase_bounds,phase_boxes)"
   ]
  },
  {
   "cell_type": "code",
   "execution_count": null,
   "metadata": {},
   "outputs": [],
   "source": [
    "X = phase_complex.complex"
   ]
  },
  {
   "cell_type": "code",
   "execution_count": null,
   "metadata": {},
   "outputs": [],
   "source": [
    "for cube in X:\n",
    "    print(cube,X.cell_dim(cube),phase_complex.geometry(cube))"
   ]
  },
  {
   "cell_type": "code",
   "execution_count": null,
   "metadata": {},
   "outputs": [],
   "source": [
    "param_boxes = [1]\n",
    "param_bounds = [[0,1]]\n",
    "param_complex = GeometricCubicalComplex(param_bounds,param_boxes)\n",
    "B = param_complex.complex"
   ]
  },
  {
   "cell_type": "code",
   "execution_count": null,
   "metadata": {},
   "outputs": [],
   "source": [
    "for cube in B:\n",
    "        print(cube,B.cell_dim(cube),param_complex.geometry(cube))"
   ]
  },
  {
   "cell_type": "code",
   "execution_count": null,
   "metadata": {},
   "outputs": [],
   "source": [
    "F0 = {4: set(), 5: {4}, 6: {5}, 7: {6,4}}\n",
    "F1 = {4: set(), 5: {4,6}, 6: set(), 7: {6,4}}"
   ]
  },
  {
   "cell_type": "code",
   "execution_count": null,
   "metadata": {},
   "outputs": [],
   "source": [
    "FC0 = FlowComplex(X, F0)\n",
    "FC1 = FlowComplex(X, F1)"
   ]
  },
  {
   "cell_type": "code",
   "execution_count": null,
   "metadata": {},
   "outputs": [],
   "source": [
    "vertex_flow_sheaf_mapping = {0: FC0, 1: FC1}"
   ]
  },
  {
   "cell_type": "code",
   "execution_count": null,
   "metadata": {},
   "outputs": [],
   "source": [
    "vertex_flow_sheaf = CubicalSheaf(param_complex, vertex_flow_sheaf_mapping)"
   ]
  },
  {
   "cell_type": "code",
   "execution_count": null,
   "metadata": {},
   "outputs": [],
   "source": [
    "flow_sheaf = SheafFromVertices(vertex_flow_sheaf)"
   ]
  },
  {
   "cell_type": "code",
   "execution_count": null,
   "metadata": {},
   "outputs": [],
   "source": [
    "FC2 = flow_sheaf.mapping[2]"
   ]
  },
  {
   "cell_type": "code",
   "execution_count": null,
   "metadata": {},
   "outputs": [],
   "source": [
    "F2 = FC2.discrete_flow"
   ]
  },
  {
   "cell_type": "code",
   "execution_count": null,
   "metadata": {},
   "outputs": [],
   "source": [
    "for top_cell in [4,5,6,7]:\n",
    "    print(F2[top_cell])"
   ]
  },
  {
   "cell_type": "code",
   "execution_count": null,
   "metadata": {},
   "outputs": [],
   "source": [
    "graded_sheaf = GradeFlowSheaf(flow_sheaf)"
   ]
  },
  {
   "cell_type": "code",
   "execution_count": null,
   "metadata": {},
   "outputs": [],
   "source": [
    "GC0 = graded_sheaf.mapping[0]\n",
    "GC1 = graded_sheaf.mapping[1]"
   ]
  },
  {
   "cell_type": "code",
   "execution_count": null,
   "metadata": {},
   "outputs": [],
   "source": [
    "DrawGradedComplex(GC0.graded_complex, GC0.poset)"
   ]
  },
  {
   "cell_type": "code",
   "execution_count": null,
   "metadata": {},
   "outputs": [],
   "source": [
    "DrawGradedComplex(GC1.graded_complex,GC1.poset)"
   ]
  },
  {
   "cell_type": "code",
   "execution_count": null,
   "metadata": {},
   "outputs": [],
   "source": [
    "GC2 = graded_sheaf.mapping[2]"
   ]
  },
  {
   "cell_type": "code",
   "execution_count": null,
   "metadata": {},
   "outputs": [],
   "source": [
    "DrawGradedComplex(GC2.graded_complex,GC2.poset)"
   ]
  },
  {
   "cell_type": "code",
   "execution_count": null,
   "metadata": {},
   "outputs": [],
   "source": [
    "#Check poset morphism\n",
    "base_poset = param_complex.face_poset"
   ]
  },
  {
   "cell_type": "code",
   "execution_count": null,
   "metadata": {},
   "outputs": [],
   "source": [
    "base_poset.edges()"
   ]
  },
  {
   "cell_type": "code",
   "execution_count": null,
   "metadata": {},
   "outputs": [],
   "source": [
    "GCMap = graded_sheaf.mapping[(2,0)]"
   ]
  },
  {
   "cell_type": "code",
   "execution_count": null,
   "metadata": {},
   "outputs": [],
   "source": [
    "poset_map = GCMap.poset_map"
   ]
  },
  {
   "cell_type": "code",
   "execution_count": null,
   "metadata": {},
   "outputs": [],
   "source": [
    "for v in [0,1,2,3]:\n",
    "    print(v,poset_map(v))"
   ]
  },
  {
   "cell_type": "code",
   "execution_count": null,
   "metadata": {},
   "outputs": [],
   "source": [
    "def poset_iso(source,target,gcmap):\n",
    "    poset_map = gcmap.poset_map\n",
    "    img = [poset_map(v) for v in source.poset.vertices()]\n",
    "    print(img)\n",
    "    img_set = set(img)\n",
    "    print(img_set)\n",
    "    #Check injective\n",
    "    if not len(img)==len(img_set):\n",
    "        return False\n",
    "    #Check surjective\n",
    "    if not img_set==target.poset.vertices():\n",
    "        return False\n",
    "    return True"
   ]
  },
  {
   "cell_type": "code",
   "execution_count": null,
   "metadata": {},
   "outputs": [],
   "source": [
    "GCMap.poset_iso(GC0,GC2)"
   ]
  },
  {
   "cell_type": "code",
   "execution_count": null,
   "metadata": {},
   "outputs": [],
   "source": [
    "GCMap = graded_sheaf.mapping[(2,1)]\n",
    "GCMap.poset_iso(GC1,GC2)"
   ]
  },
  {
   "cell_type": "code",
   "execution_count": null,
   "metadata": {},
   "outputs": [],
   "source": [
    "conley_sheaf = ConleySheaf(graded_sheaf)"
   ]
  },
  {
   "cell_type": "code",
   "execution_count": null,
   "metadata": {},
   "outputs": [],
   "source": [
    "CC0 = conley_sheaf.mapping[0]\n",
    "CC1 = conley_sheaf.mapping[1]\n",
    "CC2 = conley_sheaf.mapping[2]"
   ]
  },
  {
   "cell_type": "code",
   "execution_count": null,
   "metadata": {},
   "outputs": [],
   "source": [
    "#Check Conley complexes\n",
    "DrawGradedComplex(CC0.graded_complex,CC0.poset)"
   ]
  },
  {
   "cell_type": "code",
   "execution_count": null,
   "metadata": {},
   "outputs": [],
   "source": [
    "DrawGradedComplex(CC1.graded_complex,CC1.poset)"
   ]
  },
  {
   "cell_type": "code",
   "execution_count": null,
   "metadata": {},
   "outputs": [],
   "source": [
    "DrawGradedComplex(CC2.graded_complex,CC2.poset)"
   ]
  },
  {
   "cell_type": "code",
   "execution_count": null,
   "metadata": {},
   "outputs": [],
   "source": [
    "#Check transition matrices\n",
    "face_poset = conley_sheaf.base_complex.face_poset"
   ]
  },
  {
   "cell_type": "code",
   "execution_count": null,
   "metadata": {},
   "outputs": [],
   "source": [
    "face_poset.edges()"
   ]
  },
  {
   "cell_type": "code",
   "execution_count": null,
   "metadata": {},
   "outputs": [],
   "source": [
    "conley_map = conley_sheaf.mapping[(2,1)]\n",
    "transition_matrix = conley_map.chain_map\n",
    "t_inverse = conley_map.homotopy_inv\n",
    "for cell in CC2.graded_complex.complex():\n",
    "    print(cell,t_inverse({cell}))"
   ]
  },
  {
   "cell_type": "code",
   "execution_count": null,
   "metadata": {},
   "outputs": [],
   "source": [
    "conley_complex = CC1.graded_complex.complex()\n",
    "d = conley_complex.dimension()\n",
    "for i in range(0,d+1):\n",
    "    print(\"Cells of dimension \"+str(i))\n",
    "    for cell in conley_complex(i):\n",
    "        print(cell)"
   ]
  },
  {
   "cell_type": "code",
   "execution_count": null,
   "metadata": {},
   "outputs": [],
   "source": [
    "poset1,GC1 = FlowGradedComplex(X, lambda x : F1[x])\n",
    "poset2,GC2 = FlowGradedComplex(X, lambda x : F2[x])"
   ]
  },
  {
   "cell_type": "code",
   "execution_count": null,
   "metadata": {},
   "outputs": [],
   "source": [
    "tower1 = ConnectionMatrixTower(GC1)\n",
    "tower2 = ConnectionMatrixTower(GC2)"
   ]
  },
  {
   "cell_type": "code",
   "execution_count": null,
   "metadata": {},
   "outputs": [],
   "source": [
    "tower1"
   ]
  },
  {
   "cell_type": "code",
   "execution_count": null,
   "metadata": {},
   "outputs": [],
   "source": [
    "tower2"
   ]
  },
  {
   "cell_type": "code",
   "execution_count": null,
   "metadata": {},
   "outputs": [],
   "source": [
    "def lower ( chain, tower ):\n",
    "    for m in tower[1:]:\n",
    "        chain = m.complex().lower(chain)\n",
    "    return chain\n",
    "def lift ( chain, tower ):\n",
    "    for m in reversed(tower[1:]):\n",
    "        chain = m.complex().lift(chain)\n",
    "    return chain"
   ]
  },
  {
   "cell_type": "code",
   "execution_count": null,
   "metadata": {},
   "outputs": [],
   "source": [
    "chain_map = lambda x : lower(lift(x, tower1), tower2)\n",
    "homotopy_inverse = lambda x : lower(lift(x, tower2), tower1)"
   ]
  },
  {
   "cell_type": "code",
   "execution_count": null,
   "metadata": {},
   "outputs": [],
   "source": [
    "lift({0},tower1)"
   ]
  },
  {
   "cell_type": "code",
   "execution_count": null,
   "metadata": {},
   "outputs": [],
   "source": [
    "lift({0},tower2)"
   ]
  },
  {
   "cell_type": "code",
   "execution_count": null,
   "metadata": {},
   "outputs": [],
   "source": [
    "lower({1},tower1)"
   ]
  },
  {
   "cell_type": "code",
   "execution_count": null,
   "metadata": {},
   "outputs": [],
   "source": [
    "conley_complex = CC1.graded_complex.complex()\n",
    "d = conley_complex.dimension()\n",
    "for i in range(0,d+1):\n",
    "    print(\"Cells of dimension \"+str(i))\n",
    "    for cell in conley_complex(i):\n",
    "        print(cell,chain_map({cell}))"
   ]
  },
  {
   "cell_type": "code",
   "execution_count": null,
   "metadata": {},
   "outputs": [],
   "source": []
  }
 ],
 "metadata": {
  "kernelspec": {
   "display_name": "Python 3",
   "language": "python",
   "name": "python3"
  },
  "language_info": {
   "codemirror_mode": {
    "name": "ipython",
    "version": 3
   },
   "file_extension": ".py",
   "mimetype": "text/x-python",
   "name": "python",
   "nbconvert_exporter": "python",
   "pygments_lexer": "ipython3",
   "version": "3.7.3"
  }
 },
 "nbformat": 4,
 "nbformat_minor": 2
}
