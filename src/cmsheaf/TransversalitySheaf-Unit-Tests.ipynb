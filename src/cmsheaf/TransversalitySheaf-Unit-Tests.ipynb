{
 "cells": [
  {
   "cell_type": "code",
   "execution_count": null,
   "metadata": {},
   "outputs": [],
   "source": [
    "from TransversalitySheaf import *\n",
    "from ConleySheaf import *\n",
    "from FlowSheaf import *\n",
    "from pychomp import *\n",
    "import numpy as np"
   ]
  },
  {
   "cell_type": "code",
   "execution_count": null,
   "metadata": {},
   "outputs": [],
   "source": [
    "def cusp ( x, params ):\n",
    "    a,b = params\n",
    "    return -x**3 + a*x + b\n",
    "#Bifurcations (Pitchfork, Saddle-node)\n",
    "def PF ( x, a ):\n",
    "    return -x**3 + a*x\n",
    "def SN (x, a ):\n",
    "    return x**2 + a\n",
    "def hopf ( X, a):\n",
    "    sigma = -1\n",
    "    a, = params\n",
    "    #a,sigma = params\n",
    "    return [a*X[0]-X[1]-X[0]*(X[0]**2+X[1]**2), \n",
    "            X[0]+a*X[1]-X[1]*(X[0]**2+X[1]**2)]"
   ]
  },
  {
   "cell_type": "code",
   "execution_count": null,
   "metadata": {},
   "outputs": [],
   "source": [
    "ODE_model = lambda x, params: SN( x, params )\n",
    "base = GeometricCubicalComplex([[-.5,.5]],[2])\n",
    "bounds = [[-1.25,1.25]]\n",
    "boxes = [10]\n",
    "phase_specs = [bounds,boxes] \n",
    "num_samples = 1"
   ]
  },
  {
   "cell_type": "code",
   "execution_count": null,
   "metadata": {},
   "outputs": [],
   "source": [
    "vertex_flow_sheaf = TransversalitySheaf(base, ODE_model, phase_specs, num_samples)"
   ]
  },
  {
   "cell_type": "code",
   "execution_count": null,
   "metadata": {},
   "outputs": [],
   "source": [
    "B = base.complex\n",
    "for cube in B:\n",
    "    print(cube,B.cell_dim(cube),base.geometry(cube))"
   ]
  },
  {
   "cell_type": "code",
   "execution_count": null,
   "metadata": {},
   "outputs": [],
   "source": [
    "phase = GeometricCubicalComplex(bounds,boxes)\n",
    "X = phase.complex\n",
    "for cube in X:\n",
    "    print(cube,X.cell_dim(cube),phase.geometry(cube))"
   ]
  },
  {
   "cell_type": "code",
   "execution_count": null,
   "metadata": {},
   "outputs": [],
   "source": [
    "FC0 = vertex_flow_sheaf.mapping[0]\n",
    "FC1 = vertex_flow_sheaf.mapping[1]\n",
    "FC2 = vertex_flow_sheaf.mapping[2]"
   ]
  },
  {
   "cell_type": "code",
   "execution_count": null,
   "metadata": {},
   "outputs": [],
   "source": [
    "discrete_flow = FC0.discrete_flow\n",
    "vertices = [ cell for cell in X(X.dimension())]\n",
    "(dag, mapping) = CondensationGraph(vertices, lambda x : discrete_flow[x])\n",
    "#dag"
   ]
  },
  {
   "cell_type": "code",
   "execution_count": null,
   "metadata": {},
   "outputs": [],
   "source": [
    "graded_sheaf = GradeFlowSheaf(SheafFromVertices(vertex_flow_sheaf))"
   ]
  },
  {
   "cell_type": "code",
   "execution_count": null,
   "metadata": {},
   "outputs": [],
   "source": [
    "GC0 = graded_sheaf.mapping[0]\n",
    "GC1 = graded_sheaf.mapping[1]\n",
    "GC2 = graded_sheaf.mapping[2]"
   ]
  },
  {
   "cell_type": "code",
   "execution_count": null,
   "metadata": {},
   "outputs": [],
   "source": [
    "#DrawGradedComplex(GC0.graded_complex,GC0.poset)"
   ]
  },
  {
   "cell_type": "code",
   "execution_count": null,
   "metadata": {},
   "outputs": [],
   "source": [
    "#DrawGradedComplex(GC1.graded_complex,GC1.poset)"
   ]
  },
  {
   "cell_type": "code",
   "execution_count": null,
   "metadata": {},
   "outputs": [],
   "source": [
    "#DrawGradedComplex(GC2.graded_complex,GC2.poset)"
   ]
  },
  {
   "cell_type": "code",
   "execution_count": null,
   "metadata": {},
   "outputs": [],
   "source": [
    "conley_sheaf = ConleySheaf(graded_sheaf)"
   ]
  },
  {
   "cell_type": "code",
   "execution_count": null,
   "metadata": {},
   "outputs": [],
   "source": [
    "CC0 = conley_sheaf.mapping[0]\n",
    "CC1 = conley_sheaf.mapping[1]\n",
    "CC2 = conley_sheaf.mapping[2]"
   ]
  },
  {
   "cell_type": "code",
   "execution_count": null,
   "metadata": {},
   "outputs": [],
   "source": [
    "#DrawGradedComplex(CC0.graded_complex,CC0.poset)"
   ]
  },
  {
   "cell_type": "code",
   "execution_count": null,
   "metadata": {},
   "outputs": [],
   "source": [
    "#DrawGradedComplex(CC1.graded_complex,CC1.poset)"
   ]
  },
  {
   "cell_type": "code",
   "execution_count": null,
   "metadata": {},
   "outputs": [],
   "source": [
    "#DrawGradedComplex(CC2.graded_complex,CC2.poset)"
   ]
  },
  {
   "cell_type": "code",
   "execution_count": null,
   "metadata": {},
   "outputs": [],
   "source": [
    "ODE_model = lambda x, params: PF( x, params )\n",
    "base = GeometricCubicalComplex([[-.5,.5]],[2])\n",
    "bounds = [[-1.25,1.25]]\n",
    "boxes = [10]\n",
    "phase_specs = [bounds,boxes] \n",
    "num_samples = 1"
   ]
  },
  {
   "cell_type": "code",
   "execution_count": null,
   "metadata": {},
   "outputs": [],
   "source": [
    "vertex_flow_sheaf = TransversalitySheaf(base, ODE_model, phase_specs, num_samples)\n",
    "graded_sheaf = GradeFlowSheaf(SheafFromVertices(vertex_flow_sheaf))"
   ]
  },
  {
   "cell_type": "code",
   "execution_count": null,
   "metadata": {},
   "outputs": [],
   "source": [
    "GC0 = graded_sheaf.mapping[0]\n",
    "GC1 = graded_sheaf.mapping[1]\n",
    "GC2 = graded_sheaf.mapping[2]"
   ]
  },
  {
   "cell_type": "code",
   "execution_count": null,
   "metadata": {},
   "outputs": [],
   "source": [
    "DrawGradedComplex(GC0.graded_complex,GC0.poset)"
   ]
  },
  {
   "cell_type": "code",
   "execution_count": null,
   "metadata": {},
   "outputs": [],
   "source": [
    "DrawGradedComplex(GC1.graded_complex,GC1.poset)"
   ]
  },
  {
   "cell_type": "code",
   "execution_count": null,
   "metadata": {},
   "outputs": [],
   "source": [
    "DrawGradedComplex(GC2.graded_complex,GC2.poset)"
   ]
  },
  {
   "cell_type": "code",
   "execution_count": null,
   "metadata": {},
   "outputs": [],
   "source": [
    "conley_sheaf = ConleySheaf(graded_sheaf)"
   ]
  },
  {
   "cell_type": "code",
   "execution_count": null,
   "metadata": {},
   "outputs": [],
   "source": [
    "CC0 = conley_sheaf.mapping[0]\n",
    "CC1 = conley_sheaf.mapping[1]\n",
    "CC2 = conley_sheaf.mapping[2]"
   ]
  },
  {
   "cell_type": "code",
   "execution_count": null,
   "metadata": {},
   "outputs": [],
   "source": [
    "DrawGradedComplex(CC0.graded_complex,CC0.poset)"
   ]
  },
  {
   "cell_type": "code",
   "execution_count": null,
   "metadata": {},
   "outputs": [],
   "source": [
    "DrawGradedComplex(CC1.graded_complex,CC1.poset)"
   ]
  },
  {
   "cell_type": "code",
   "execution_count": null,
   "metadata": {},
   "outputs": [],
   "source": [
    "DrawGradedComplex(CC2.graded_complex,CC2.poset)"
   ]
  },
  {
   "cell_type": "code",
   "execution_count": null,
   "metadata": {},
   "outputs": [],
   "source": []
  },
  {
   "cell_type": "code",
   "execution_count": null,
   "metadata": {},
   "outputs": [],
   "source": [
    "def hopf ( X, a):\n",
    "    a, = params\n",
    "    return [a*X[0]-X[1]-X[0]*(X[0]**2+X[1]**2), \n",
    "            X[0]+a*X[1]-X[1]*(X[0]**2+X[1]**2)]"
   ]
  },
  {
   "cell_type": "code",
   "execution_count": null,
   "metadata": {},
   "outputs": [],
   "source": [
    "ODE_model = lambda x, params: hopf( x, params )\n",
    "base = GeometricCubicalComplex([[-1,1]],[2])\n",
    "bounds = [[-1.25,1.25],[-1.25,1.25]]\n",
    "boxes = [10,10]\n",
    "phase_specs = [bounds,boxes] \n",
    "num_samples = 1"
   ]
  },
  {
   "cell_type": "code",
   "execution_count": null,
   "metadata": {},
   "outputs": [],
   "source": [
    "X = GeometricCubicalComplex(bounds,boxes)\n",
    "X.delta"
   ]
  },
  {
   "cell_type": "code",
   "execution_count": null,
   "metadata": {},
   "outputs": [],
   "source": [
    "B = base.complex\n",
    "base_vertex = next(B(0))\n",
    "params = [coord[0] for coord in base.geometry(base_vertex)]"
   ]
  },
  {
   "cell_type": "code",
   "execution_count": null,
   "metadata": {},
   "outputs": [],
   "source": [
    "TC = TransversalityComplex(X, ODE_model, params, num_samples)"
   ]
  },
  {
   "cell_type": "code",
   "execution_count": null,
   "metadata": {},
   "outputs": [],
   "source": [
    "vertex_flow_sheaf = TransversalitySheaf(base, ODE_model, phase_specs, num_samples)"
   ]
  },
  {
   "cell_type": "code",
   "execution_count": null,
   "metadata": {},
   "outputs": [],
   "source": [
    "%%time\n",
    "graded_sheaf = GradeFlowSheaf(SheafFromVertices(vertex_flow_sheaf))"
   ]
  },
  {
   "cell_type": "code",
   "execution_count": null,
   "metadata": {},
   "outputs": [],
   "source": [
    "GC0 = graded_sheaf.mapping[0]\n",
    "GC1 = graded_sheaf.mapping[1]\n",
    "GC2 = graded_sheaf.mapping[2]"
   ]
  },
  {
   "cell_type": "code",
   "execution_count": null,
   "metadata": {},
   "outputs": [],
   "source": [
    "GC2.poset"
   ]
  },
  {
   "cell_type": "code",
   "execution_count": null,
   "metadata": {},
   "outputs": [],
   "source": [
    "#DrawGradedComplex(GC0.graded_complex,GC0.poset)"
   ]
  },
  {
   "cell_type": "code",
   "execution_count": null,
   "metadata": {},
   "outputs": [],
   "source": [
    "#DrawGradedComplex(GC1.graded_complex,GC1.poset)"
   ]
  },
  {
   "cell_type": "code",
   "execution_count": null,
   "metadata": {},
   "outputs": [],
   "source": [
    "#DrawGradedComplex(GC2.graded_complex,GC2.poset)"
   ]
  },
  {
   "cell_type": "code",
   "execution_count": null,
   "metadata": {},
   "outputs": [],
   "source": [
    "conley_sheaf = ConleySheaf(graded_sheaf)"
   ]
  },
  {
   "cell_type": "code",
   "execution_count": null,
   "metadata": {},
   "outputs": [],
   "source": [
    "CC0 = conley_sheaf.mapping[0]\n",
    "CC1 = conley_sheaf.mapping[1]\n",
    "CC2 = conley_sheaf.mapping[2]"
   ]
  },
  {
   "cell_type": "code",
   "execution_count": null,
   "metadata": {},
   "outputs": [],
   "source": [
    "#DrawGradedComplex(CC0.graded_complex,CC0.poset)"
   ]
  },
  {
   "cell_type": "code",
   "execution_count": null,
   "metadata": {},
   "outputs": [],
   "source": [
    "#DrawGradedComplex(CC1.graded_complex,CC1.poset)"
   ]
  },
  {
   "cell_type": "code",
   "execution_count": null,
   "metadata": {},
   "outputs": [],
   "source": [
    "DrawGradedComplex(CC2.graded_complex,CC2.poset)"
   ]
  },
  {
   "cell_type": "code",
   "execution_count": null,
   "metadata": {},
   "outputs": [],
   "source": [
    "conley_complex = CC2.graded_complex\n",
    "poset = CC2.poset\n",
    "#reduced_poset = Poset(InducedSubgraph(TransitiveClosure(poset), lambda v : v in conley_complex.count()))"
   ]
  },
  {
   "cell_type": "code",
   "execution_count": null,
   "metadata": {},
   "outputs": [],
   "source": [
    "def InducedPoset( G, predicate ):\n",
    "    result = DirectedAcyclicGraph()\n",
    "    S = set([v for v in G.vertices() if predicate(v)])\n",
    "    for v in S:\n",
    "        result.add_vertex(v)\n",
    "    for v in S:\n",
    "        for u in G.children(v):\n",
    "            if u in S and u != v:\n",
    "                result.add_edge(v,u)\n",
    "    return Poset(result)"
   ]
  },
  {
   "cell_type": "code",
   "execution_count": null,
   "metadata": {},
   "outputs": [],
   "source": [
    "reduced_poset = InducedPoset(poset, lambda v : v in conley_complex.count())"
   ]
  },
  {
   "cell_type": "code",
   "execution_count": null,
   "metadata": {},
   "outputs": [],
   "source": [
    "DrawGradedComplex(CC2.graded_complex,reduced_poset)"
   ]
  },
  {
   "cell_type": "code",
   "execution_count": null,
   "metadata": {},
   "outputs": [],
   "source": []
  },
  {
   "cell_type": "code",
   "execution_count": null,
   "metadata": {},
   "outputs": [],
   "source": []
  },
  {
   "cell_type": "code",
   "execution_count": null,
   "metadata": {},
   "outputs": [],
   "source": []
  },
  {
   "cell_type": "code",
   "execution_count": null,
   "metadata": {},
   "outputs": [],
   "source": []
  },
  {
   "cell_type": "code",
   "execution_count": null,
   "metadata": {},
   "outputs": [],
   "source": []
  },
  {
   "cell_type": "code",
   "execution_count": null,
   "metadata": {},
   "outputs": [],
   "source": []
  },
  {
   "cell_type": "code",
   "execution_count": null,
   "metadata": {},
   "outputs": [],
   "source": []
  },
  {
   "cell_type": "code",
   "execution_count": null,
   "metadata": {},
   "outputs": [],
   "source": []
  },
  {
   "cell_type": "code",
   "execution_count": null,
   "metadata": {},
   "outputs": [],
   "source": []
  },
  {
   "cell_type": "code",
   "execution_count": null,
   "metadata": {},
   "outputs": [],
   "source": [
    "# discrete_flow = FC2.discrete_flow\n",
    "# vertices = [ cell for cell in X(X.dimension())]\n",
    "# (dag, mapping) = CondensationGraph(vertices, discrete_flow)"
   ]
  },
  {
   "cell_type": "code",
   "execution_count": null,
   "metadata": {},
   "outputs": [],
   "source": [
    "# for v in vertices:\n",
    "#     print(v,discrete_flow(v))"
   ]
  },
  {
   "cell_type": "code",
   "execution_count": null,
   "metadata": {},
   "outputs": [],
   "source": [
    "#dag.vertices()"
   ]
  },
  {
   "cell_type": "code",
   "execution_count": null,
   "metadata": {},
   "outputs": [],
   "source": [
    "flow_sheaf = SheafFromVertices(vertex_flow_sheaf)"
   ]
  },
  {
   "cell_type": "code",
   "execution_count": null,
   "metadata": {},
   "outputs": [],
   "source": [
    "FC = flow_sheaf.mapping[9]"
   ]
  },
  {
   "cell_type": "code",
   "execution_count": null,
   "metadata": {},
   "outputs": [],
   "source": [
    "B.boundary({9})"
   ]
  },
  {
   "cell_type": "code",
   "execution_count": null,
   "metadata": {},
   "outputs": [],
   "source": [
    "FC"
   ]
  },
  {
   "cell_type": "code",
   "execution_count": null,
   "metadata": {},
   "outputs": [],
   "source": [
    "for v in FC.complex(FC.complex.dimension()):\n",
    "    print(v,FC.discrete_flow[v])\n",
    "#FC.discrete_flow"
   ]
  },
  {
   "cell_type": "code",
   "execution_count": null,
   "metadata": {},
   "outputs": [],
   "source": [
    "GC = GradedComplexObj.induce_from_flow(FC.complex, lambda x : FC.discrete_flow[x])"
   ]
  },
  {
   "cell_type": "code",
   "execution_count": null,
   "metadata": {},
   "outputs": [],
   "source": []
  },
  {
   "cell_type": "code",
   "execution_count": null,
   "metadata": {},
   "outputs": [],
   "source": [
    "graded_sheaf = GradeFlowSheaf(flow_sheaf)"
   ]
  },
  {
   "cell_type": "code",
   "execution_count": null,
   "metadata": {},
   "outputs": [],
   "source": [
    "conley_sheaf = ConleySheaf(graded_sheaf)"
   ]
  },
  {
   "cell_type": "code",
   "execution_count": null,
   "metadata": {},
   "outputs": [],
   "source": [
    "#DrawGradedComplex(CC0.graded_complex,CC0.poset)"
   ]
  },
  {
   "cell_type": "code",
   "execution_count": null,
   "metadata": {},
   "outputs": [],
   "source": []
  },
  {
   "cell_type": "code",
   "execution_count": null,
   "metadata": {},
   "outputs": [],
   "source": []
  },
  {
   "cell_type": "code",
   "execution_count": null,
   "metadata": {},
   "outputs": [],
   "source": []
  },
  {
   "cell_type": "code",
   "execution_count": null,
   "metadata": {},
   "outputs": [],
   "source": []
  },
  {
   "cell_type": "code",
   "execution_count": null,
   "metadata": {},
   "outputs": [],
   "source": []
  },
  {
   "cell_type": "code",
   "execution_count": null,
   "metadata": {},
   "outputs": [],
   "source": []
  },
  {
   "cell_type": "code",
   "execution_count": null,
   "metadata": {},
   "outputs": [],
   "source": [
    "for cell in v_sheaf.base_complex.complex(0):\n",
    "    flow_complex = v_sheaf.mapping(cell)\n",
    "    print(type(flow_complex.complex),type(flow_complex.discrete_flow))"
   ]
  },
  {
   "cell_type": "code",
   "execution_count": null,
   "metadata": {},
   "outputs": [],
   "source": [
    "flow_sheaf = SheafFromVertices(v_sheaf)"
   ]
  },
  {
   "cell_type": "code",
   "execution_count": null,
   "metadata": {},
   "outputs": [],
   "source": [
    "flow_sheaf"
   ]
  },
  {
   "cell_type": "code",
   "execution_count": null,
   "metadata": {},
   "outputs": [],
   "source": [
    "for cell in flow_sheaf.base_complex.complex:\n",
    "    print(type(flow_sheaf.mapping(cell)))"
   ]
  },
  {
   "cell_type": "code",
   "execution_count": null,
   "metadata": {},
   "outputs": [],
   "source": [
    "mapping = {}\n",
    "B = flow_sheaf.base_complex.complex\n",
    "for base_cell in B:\n",
    "    flow_complex = flow_sheaf.mapping(base_cell)\n",
    "    mapping[base_cell] = GradedComplexObj.induce_from_flow(flow_complex.complex, flow_complex.discrete_flow)\n",
    "#mapping[base_cell] = FlowGradedComplex(*flow_sheaf.mapping(base_cell))\n",
    "#return CubicalSheaf(flow_sheaf.base_complex, lambda x : mapping[x])\n"
   ]
  },
  {
   "cell_type": "code",
   "execution_count": null,
   "metadata": {},
   "outputs": [],
   "source": [
    "complex_sheaf = GradeFlowSheaf(flow_sheaf)"
   ]
  },
  {
   "cell_type": "code",
   "execution_count": null,
   "metadata": {},
   "outputs": [],
   "source": [
    "conley_sheaf = ConleySheaf(complex_sheaf)"
   ]
  },
  {
   "cell_type": "code",
   "execution_count": null,
   "metadata": {},
   "outputs": [],
   "source": [
    "B = conley_sheaf.base_complex.complex\n",
    "face_poset = conley_sheaf.base_complex.face_poset"
   ]
  },
  {
   "cell_type": "code",
   "execution_count": null,
   "metadata": {},
   "outputs": [],
   "source": [
    "for base_cell in B:\n",
    "    print(base_cell)"
   ]
  },
  {
   "cell_type": "code",
   "execution_count": null,
   "metadata": {},
   "outputs": [],
   "source": [
    "cm = conley_sheaf.mapping(11)\n",
    "conley_complex = cm.graded_complex\n",
    "poset = cm.poset\n",
    "DrawGradedComplex(conley_complex,poset)"
   ]
  },
  {
   "cell_type": "code",
   "execution_count": null,
   "metadata": {},
   "outputs": [],
   "source": [
    "face_poset.edges()"
   ]
  },
  {
   "cell_type": "code",
   "execution_count": null,
   "metadata": {},
   "outputs": [],
   "source": [
    "base_edge = (11,0)\n",
    "conley_map = conley_sheaf.mapping(base_edge)"
   ]
  },
  {
   "cell_type": "code",
   "execution_count": null,
   "metadata": {},
   "outputs": [],
   "source": [
    "for c in conley_complex.complex():\n",
    "    print(transition_matrix({c}))"
   ]
  },
  {
   "cell_type": "code",
   "execution_count": null,
   "metadata": {},
   "outputs": [],
   "source": [
    "vertex_sheaf = VertexFlowSheaf(base_complex,ODE_model,phase_specs,num_samples)"
   ]
  },
  {
   "cell_type": "code",
   "execution_count": null,
   "metadata": {},
   "outputs": [],
   "source": [
    "B = vertex_sheaf.base_complex.complex"
   ]
  },
  {
   "cell_type": "code",
   "execution_count": null,
   "metadata": {},
   "outputs": [],
   "source": [
    "for cell in B:\n",
    "    poset,gc = vertex_sheaf.mapping(cell)\n",
    "    DrawGradedComplex(gc,Poset(poset))"
   ]
  },
  {
   "cell_type": "code",
   "execution_count": null,
   "metadata": {},
   "outputs": [],
   "source": [
    "poset,gc = vertex_sheaf.mapping(21)"
   ]
  },
  {
   "cell_type": "code",
   "execution_count": null,
   "metadata": {},
   "outputs": [],
   "source": [
    "B.boundary({21})"
   ]
  },
  {
   "cell_type": "code",
   "execution_count": null,
   "metadata": {},
   "outputs": [],
   "source": [
    "type(vertex_sheaf)"
   ]
  },
  {
   "cell_type": "code",
   "execution_count": null,
   "metadata": {},
   "outputs": [],
   "source": [
    "conley_sheaf = ConleySheaf(vertex_sheaf)"
   ]
  },
  {
   "cell_type": "code",
   "execution_count": null,
   "metadata": {},
   "outputs": [],
   "source": [
    "mapping = {}\n",
    "#Step 1. Construct the complex for phase space\n",
    "bounds,boxes = phase_specs\n",
    "geometric_phase_complex = GeometricCubicalComplex(bounds,boxes)\n",
    "phase_complex = geometric_phase_complex.complex\n",
    "#Step 2. For each cell, compute transversality complex, followed by graded_cell complex\n",
    "B = base_complex.complex"
   ]
  },
  {
   "cell_type": "code",
   "execution_count": null,
   "metadata": {},
   "outputs": [],
   "source": [
    "for cell in B(0):\n",
    "    print(cell,B.cell_dim(cell),type(cell))\n",
    "    print(type(int(cell)))"
   ]
  },
  {
   "cell_type": "code",
   "execution_count": null,
   "metadata": {},
   "outputs": [],
   "source": [
    "base_vertex = next(B(0))\n",
    "print(base_vertex)"
   ]
  },
  {
   "cell_type": "code",
   "execution_count": null,
   "metadata": {},
   "outputs": [],
   "source": [
    "params = [coord[0] for coord in base_complex.geometry(base_vertex)]\n",
    "print(params)"
   ]
  },
  {
   "cell_type": "code",
   "execution_count": null,
   "metadata": {},
   "outputs": [],
   "source": [
    "#(C,discrete_flow) = *TransversalityComplex(geometric_phase_complex, ODE_model, params, num_samples)\n",
    "(poset, graded_complex) = FlowGradedComplex(*TransversalityComplex(geometric_phase_complex, ODE_model, params, num_samples))"
   ]
  },
  {
   "cell_type": "code",
   "execution_count": null,
   "metadata": {},
   "outputs": [],
   "source": [
    "graded_complex"
   ]
  },
  {
   "cell_type": "code",
   "execution_count": null,
   "metadata": {},
   "outputs": [],
   "source": [
    "graded_complex.count()"
   ]
  },
  {
   "cell_type": "code",
   "execution_count": null,
   "metadata": {},
   "outputs": [],
   "source": []
  },
  {
   "cell_type": "code",
   "execution_count": null,
   "metadata": {},
   "outputs": [],
   "source": []
  },
  {
   "cell_type": "code",
   "execution_count": null,
   "metadata": {},
   "outputs": [],
   "source": [
    "for base_vertex in B(0):\n",
    "    params = [coord[0] for coord in base_complex.geometry(base_vertex)]\n",
    "    (C,discrete_flow) = TransversalityComplex(geometric_phase_complex, ODE_model, params, num_samples)\n",
    "    mapping[base_vertex] = (GradedComplex(phase_complex,discrete_flow), discrete_flow)\n",
    "#vertex_sheaf = CubicalSheaf(base_complex, lambda v: mapping[v]) "
   ]
  },
  {
   "cell_type": "code",
   "execution_count": null,
   "metadata": {},
   "outputs": [],
   "source": [
    "gc.count()"
   ]
  },
  {
   "cell_type": "code",
   "execution_count": null,
   "metadata": {},
   "outputs": [],
   "source": []
  },
  {
   "cell_type": "code",
   "execution_count": null,
   "metadata": {},
   "outputs": [],
   "source": [
    "#vertex_sheaf = VertexFlowSheaf(base_complex,ODE_model,phase_specs,num_samples)"
   ]
  },
  {
   "cell_type": "code",
   "execution_count": null,
   "metadata": {},
   "outputs": [],
   "source": [
    "type(vertex_sheaf)"
   ]
  },
  {
   "cell_type": "code",
   "execution_count": null,
   "metadata": {},
   "outputs": [],
   "source": [
    "base_complex = vertex_sheaf.complex"
   ]
  },
  {
   "cell_type": "code",
   "execution_count": null,
   "metadata": {},
   "outputs": [],
   "source": [
    "B = base_complex.complex\n",
    "for cell in B:\n",
    "    print(cell,B.cell_dim(cell))"
   ]
  },
  {
   "cell_type": "code",
   "execution_count": null,
   "metadata": {},
   "outputs": [],
   "source": [
    "mapping = vertex_sheaf.mapping\n",
    "type(mapping)"
   ]
  },
  {
   "cell_type": "code",
   "execution_count": null,
   "metadata": {},
   "outputs": [],
   "source": [
    "for cell in B:\n",
    "    print(cell)\n",
    "    gc,flow = mapping(cell)\n",
    "    print(type(gc))\n",
    "    #gc,flow = mapping[cell]\n",
    "    print(gc.count())\n",
    "    #print(type(gc))"
   ]
  },
  {
   "cell_type": "code",
   "execution_count": null,
   "metadata": {},
   "outputs": [],
   "source": [
    "gc,flow = mapping(0)"
   ]
  },
  {
   "cell_type": "code",
   "execution_count": null,
   "metadata": {},
   "outputs": [],
   "source": [
    "type(gc)"
   ]
  },
  {
   "cell_type": "code",
   "execution_count": null,
   "metadata": {},
   "outputs": [],
   "source": [
    "gc.count()"
   ]
  },
  {
   "cell_type": "code",
   "execution_count": null,
   "metadata": {},
   "outputs": [],
   "source": [
    "F0 = {0: {0,1}, 1: {1}}\n",
    "F1 = {0: {0}, 1: {0,1}}"
   ]
  },
  {
   "cell_type": "code",
   "execution_count": null,
   "metadata": {},
   "outputs": [],
   "source": [
    "F0"
   ]
  },
  {
   "cell_type": "code",
   "execution_count": null,
   "metadata": {},
   "outputs": [],
   "source": [
    "F1"
   ]
  },
  {
   "cell_type": "code",
   "execution_count": null,
   "metadata": {},
   "outputs": [],
   "source": [
    "dict([(key,set.union(F0[key],F1[key])) for key in F0.keys()])"
   ]
  },
  {
   "cell_type": "code",
   "execution_count": null,
   "metadata": {},
   "outputs": [],
   "source": [
    "dict([(1,{0,1,2}),(2,{0,1})])"
   ]
  },
  {
   "cell_type": "code",
   "execution_count": null,
   "metadata": {},
   "outputs": [],
   "source": [
    "flows = [F0,F1]\n",
    "vertices = F0.keys()"
   ]
  },
  {
   "cell_type": "code",
   "execution_count": null,
   "metadata": {},
   "outputs": [],
   "source": [
    "dict([(v,set.union(*[F[v] for F in flows])) for v in vertices])"
   ]
  },
  {
   "cell_type": "code",
   "execution_count": null,
   "metadata": {},
   "outputs": [],
   "source": [
    "flows"
   ]
  },
  {
   "cell_type": "code",
   "execution_count": null,
   "metadata": {},
   "outputs": [],
   "source": []
  }
 ],
 "metadata": {
  "kernelspec": {
   "display_name": "Python 3",
   "language": "python",
   "name": "python3"
  },
  "language_info": {
   "codemirror_mode": {
    "name": "ipython",
    "version": 3
   },
   "file_extension": ".py",
   "mimetype": "text/x-python",
   "name": "python",
   "nbconvert_exporter": "python",
   "pygments_lexer": "ipython3",
   "version": "3.7.3"
  }
 },
 "nbformat": 4,
 "nbformat_minor": 2
}
