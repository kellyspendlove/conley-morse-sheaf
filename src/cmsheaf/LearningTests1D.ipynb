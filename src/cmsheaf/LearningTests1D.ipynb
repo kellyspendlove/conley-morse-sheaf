{
 "cells": [
  {
   "cell_type": "code",
   "execution_count": 1,
   "metadata": {},
   "outputs": [],
   "source": [
    "from TransversalitySheaf import *\n",
    "from ConleySheaf import *\n",
    "from FlowSheaf import *\n",
    "from pychomp import *\n",
    "from Model import *\n",
    "import graphviz\n",
    "\n",
    "import matplotlib.pyplot as plt\n",
    "from matplotlib import colors"
   ]
  },
  {
   "cell_type": "code",
   "execution_count": 2,
   "metadata": {},
   "outputs": [],
   "source": [
    "model_name = 'replicator1DTemp'\n",
    "model = Model(model_name)"
   ]
  },
  {
   "cell_type": "code",
   "execution_count": 3,
   "metadata": {},
   "outputs": [],
   "source": [
    "T = -2\n",
    "params = T\n",
    "# a,b = 5,-5\n",
    "# params = a,b"
   ]
  },
  {
   "cell_type": "code",
   "execution_count": 4,
   "metadata": {},
   "outputs": [
    {
     "data": {
      "image/png": "[encoded data removed]",
      "text/plain": [
       "<Figure size 432x288 with 1 Axes>"
      ]
     },
     "metadata": {
      "needs_background": "light"
     },
     "output_type": "display_data"
    }
   ],
   "source": [
    "model.simulate([.9],params)"
   ]
  },
  {
   "cell_type": "code",
   "execution_count": 5,
   "metadata": {},
   "outputs": [],
   "source": [
    "base = GeometricCubicalComplex(model.base_bounds,model.base_boxes)\n",
    "B = base.complex"
   ]
  },
  {
   "cell_type": "code",
   "execution_count": 6,
   "metadata": {},
   "outputs": [],
   "source": [
    "phase_complex = GeometricCubicalComplex(model.phase_bounds, model.phase_boxes)\n",
    "X = phase_complex.complex"
   ]
  },
  {
   "cell_type": "code",
   "execution_count": 7,
   "metadata": {},
   "outputs": [],
   "source": [
    "C, discrete_flow = TransversalityComplex(phase_complex, model.ODE_Model,params,model.num_samples)\n",
    "FC = FlowComplex(C, discrete_flow)"
   ]
  },
  {
   "cell_type": "code",
   "execution_count": 8,
   "metadata": {},
   "outputs": [],
   "source": [
    "GC = GradedComplexObj.induce_from_flow(FC.complex, lambda x: FC.discrete_flow[x])"
   ]
  },
  {
   "cell_type": "code",
   "execution_count": 9,
   "metadata": {},
   "outputs": [],
   "source": [
    "#DrawGradedComplex(GC.graded_complex,GC.poset)"
   ]
  },
  {
   "cell_type": "code",
   "execution_count": 10,
   "metadata": {},
   "outputs": [],
   "source": [
    "conley_complex = ConnectionMatrix(GC.graded_complex)\n",
    "poset = GC.poset\n",
    "#DrawGradedComplex(conley_complex,poset)"
   ]
  },
  {
   "cell_type": "code",
   "execution_count": 11,
   "metadata": {
    "scrolled": false
   },
   "outputs": [
    {
     "data": {
      "image/svg+xml": [
       "<?xml version=\"1.0\" encoding=\"UTF-8\" standalone=\"no\"?>\n",
       "<!DOCTYPE svg PUBLIC \"-//W3C//DTD SVG 1.1//EN\"\n",
       " \"http://www.w3.org/Graphics/SVG/1.1/DTD/svg11.dtd\">\n",
       "<!-- Generated by graphviz version 2.43.0 (0)\n",
       " -->\n",
       "<!-- Title: %3 Pages: 1 -->\n",
       "<svg width=\"206pt\" height=\"548pt\"\n",
       " viewBox=\"0.00 0.00 206.00 548.00\" xmlns=\"http://www.w3.org/2000/svg\" xmlns:xlink=\"http://www.w3.org/1999/xlink\">\n",
       "<g id=\"graph0\" class=\"graph\" transform=\"scale(1 1) rotate(0) translate(4 544)\">\n",
       "<title>%3</title>\n",
       "<polygon fill=\"white\" stroke=\"transparent\" points=\"-4,4 -4,-544 202,-544 202,4 -4,4\"/>\n",
       "<!-- 0 -->\n",
       "<g id=\"node1\" class=\"node\">\n",
       "<title>0</title>\n",
       "<ellipse fill=\"none\" stroke=\"black\" cx=\"44\" cy=\"-378\" rx=\"27\" ry=\"18\"/>\n",
       "</g>\n",
       "<!-- 1 -->\n",
       "<g id=\"node2\" class=\"node\">\n",
       "<title>1</title>\n",
       "<ellipse fill=\"none\" stroke=\"black\" cx=\"134\" cy=\"-18\" rx=\"27\" ry=\"18\"/>\n",
       "</g>\n",
       "<!-- 2 -->\n",
       "<g id=\"node3\" class=\"node\">\n",
       "<title>2</title>\n",
       "<ellipse fill=\"none\" stroke=\"black\" cx=\"99\" cy=\"-450\" rx=\"27\" ry=\"18\"/>\n",
       "</g>\n",
       "<!-- 2&#45;&gt;0 -->\n",
       "<g id=\"edge1\" class=\"edge\">\n",
       "<title>2&#45;&gt;0</title>\n",
       "<path fill=\"none\" stroke=\"black\" d=\"M87.07,-433.81C79.79,-424.55 70.34,-412.52 62.15,-402.09\"/>\n",
       "<polygon fill=\"black\" stroke=\"black\" points=\"64.84,-399.86 55.91,-394.16 59.34,-404.18 64.84,-399.86\"/>\n",
       "</g>\n",
       "<!-- 2&#45;&gt;1 -->\n",
       "<g id=\"edge2\" class=\"edge\">\n",
       "<title>2&#45;&gt;1</title>\n",
       "<path fill=\"none\" stroke=\"black\" d=\"M100.58,-431.97C102.91,-405.33 107,-352.19 107,-307 107,-307 107,-307 107,-161 107,-120.28 117.85,-74.13 125.79,-45.79\"/>\n",
       "<polygon fill=\"black\" stroke=\"black\" points=\"129.25,-46.43 128.67,-35.85 122.53,-44.49 129.25,-46.43\"/>\n",
       "</g>\n",
       "<!-- 3 -->\n",
       "<g id=\"node4\" class=\"node\">\n",
       "<title>3</title>\n",
       "<ellipse fill=\"none\" stroke=\"black\" cx=\"27\" cy=\"-450\" rx=\"27\" ry=\"18\"/>\n",
       "</g>\n",
       "<!-- 3&#45;&gt;0 -->\n",
       "<g id=\"edge3\" class=\"edge\">\n",
       "<title>3&#45;&gt;0</title>\n",
       "<path fill=\"none\" stroke=\"black\" d=\"M31.12,-432.05C33.01,-424.26 35.3,-414.82 37.42,-406.08\"/>\n",
       "<polygon fill=\"black\" stroke=\"black\" points=\"40.85,-406.82 39.8,-396.28 34.04,-405.17 40.85,-406.82\"/>\n",
       "</g>\n",
       "<!-- 4 -->\n",
       "<g id=\"node5\" class=\"node\">\n",
       "<title>4</title>\n",
       "<ellipse fill=\"none\" stroke=\"black\" cx=\"164\" cy=\"-90\" rx=\"27\" ry=\"18\"/>\n",
       "</g>\n",
       "<!-- 4&#45;&gt;1 -->\n",
       "<g id=\"edge4\" class=\"edge\">\n",
       "<title>4&#45;&gt;1</title>\n",
       "<path fill=\"none\" stroke=\"black\" d=\"M156.89,-72.41C153.34,-64.13 148.97,-53.92 145,-44.66\"/>\n",
       "<polygon fill=\"black\" stroke=\"black\" points=\"148.21,-43.28 141.06,-35.47 141.78,-46.04 148.21,-43.28\"/>\n",
       "</g>\n",
       "<!-- 5 -->\n",
       "<g id=\"node6\" class=\"node\">\n",
       "<title>5</title>\n",
       "<ellipse fill=\"none\" stroke=\"black\" cx=\"165\" cy=\"-162\" rx=\"27\" ry=\"18\"/>\n",
       "</g>\n",
       "<!-- 5&#45;&gt;4 -->\n",
       "<g id=\"edge5\" class=\"edge\">\n",
       "<title>5&#45;&gt;4</title>\n",
       "<path fill=\"none\" stroke=\"black\" d=\"M164.75,-143.7C164.64,-135.98 164.51,-126.71 164.39,-118.11\"/>\n",
       "<polygon fill=\"black\" stroke=\"black\" points=\"167.89,-118.05 164.24,-108.1 160.89,-118.15 167.89,-118.05\"/>\n",
       "</g>\n",
       "<!-- 6 -->\n",
       "<g id=\"node7\" class=\"node\">\n",
       "<title>6</title>\n",
       "<ellipse fill=\"none\" stroke=\"black\" cx=\"165\" cy=\"-234\" rx=\"27\" ry=\"18\"/>\n",
       "</g>\n",
       "<!-- 6&#45;&gt;5 -->\n",
       "<g id=\"edge6\" class=\"edge\">\n",
       "<title>6&#45;&gt;5</title>\n",
       "<path fill=\"none\" stroke=\"black\" d=\"M165,-215.7C165,-207.98 165,-198.71 165,-190.11\"/>\n",
       "<polygon fill=\"black\" stroke=\"black\" points=\"168.5,-190.1 165,-180.1 161.5,-190.1 168.5,-190.1\"/>\n",
       "</g>\n",
       "<!-- 7 -->\n",
       "<g id=\"node8\" class=\"node\">\n",
       "<title>7</title>\n",
       "<ellipse fill=\"none\" stroke=\"black\" cx=\"166\" cy=\"-306\" rx=\"27\" ry=\"18\"/>\n",
       "</g>\n",
       "<!-- 7&#45;&gt;6 -->\n",
       "<g id=\"edge7\" class=\"edge\">\n",
       "<title>7&#45;&gt;6</title>\n",
       "<path fill=\"none\" stroke=\"black\" d=\"M165.75,-287.7C165.64,-279.98 165.51,-270.71 165.39,-262.11\"/>\n",
       "<polygon fill=\"black\" stroke=\"black\" points=\"168.89,-262.05 165.24,-252.1 161.89,-262.15 168.89,-262.05\"/>\n",
       "</g>\n",
       "<!-- 8 -->\n",
       "<g id=\"node9\" class=\"node\">\n",
       "<title>8</title>\n",
       "<ellipse fill=\"none\" stroke=\"black\" cx=\"168\" cy=\"-378\" rx=\"27\" ry=\"18\"/>\n",
       "</g>\n",
       "<!-- 8&#45;&gt;7 -->\n",
       "<g id=\"edge8\" class=\"edge\">\n",
       "<title>8&#45;&gt;7</title>\n",
       "<path fill=\"none\" stroke=\"black\" d=\"M167.51,-359.7C167.29,-351.98 167.02,-342.71 166.77,-334.11\"/>\n",
       "<polygon fill=\"black\" stroke=\"black\" points=\"170.27,-334 166.49,-324.1 163.28,-334.2 170.27,-334\"/>\n",
       "</g>\n",
       "<!-- 9 -->\n",
       "<g id=\"node10\" class=\"node\">\n",
       "<title>9</title>\n",
       "<ellipse fill=\"none\" stroke=\"black\" cx=\"171\" cy=\"-450\" rx=\"27\" ry=\"18\"/>\n",
       "</g>\n",
       "<!-- 9&#45;&gt;8 -->\n",
       "<g id=\"edge9\" class=\"edge\">\n",
       "<title>9&#45;&gt;8</title>\n",
       "<path fill=\"none\" stroke=\"black\" d=\"M170.26,-431.7C169.93,-423.98 169.53,-414.71 169.16,-406.11\"/>\n",
       "<polygon fill=\"black\" stroke=\"black\" points=\"172.66,-405.95 168.73,-396.1 165.66,-406.25 172.66,-405.95\"/>\n",
       "</g>\n",
       "<!-- 10 -->\n",
       "<g id=\"node11\" class=\"node\">\n",
       "<title>10</title>\n",
       "<ellipse fill=\"none\" stroke=\"black\" cx=\"99\" cy=\"-522\" rx=\"27\" ry=\"18\"/>\n",
       "</g>\n",
       "<!-- 10&#45;&gt;3 -->\n",
       "<g id=\"edge11\" class=\"edge\">\n",
       "<title>10&#45;&gt;3</title>\n",
       "<path fill=\"none\" stroke=\"black\" d=\"M84.43,-506.83C74.25,-496.94 60.48,-483.55 48.97,-472.36\"/>\n",
       "<polygon fill=\"black\" stroke=\"black\" points=\"51.41,-469.85 41.8,-465.38 46.53,-474.87 51.41,-469.85\"/>\n",
       "</g>\n",
       "<!-- 10&#45;&gt;9 -->\n",
       "<g id=\"edge10\" class=\"edge\">\n",
       "<title>10&#45;&gt;9</title>\n",
       "<path fill=\"none\" stroke=\"black\" d=\"M113.57,-506.83C123.75,-496.94 137.52,-483.55 149.03,-472.36\"/>\n",
       "<polygon fill=\"black\" stroke=\"black\" points=\"151.47,-474.87 156.2,-465.38 146.59,-469.85 151.47,-474.87\"/>\n",
       "</g>\n",
       "</g>\n",
       "</svg>\n"
      ],
      "text/plain": [
       "<pychomp.Poset.Poset at 0x1255a9c50>"
      ]
     },
     "execution_count": 11,
     "metadata": {},
     "output_type": "execute_result"
    }
   ],
   "source": [
    "poset"
   ]
  },
  {
   "cell_type": "code",
   "execution_count": 12,
   "metadata": {},
   "outputs": [],
   "source": [
    "#dot = graphviz.Source(poset.children_.graphviz())\n",
    "#dot.render('test-output/round-table.gv', view=True) "
   ]
  },
  {
   "cell_type": "code",
   "execution_count": 13,
   "metadata": {},
   "outputs": [
    {
     "data": {
      "image/svg+xml": [
       "<?xml version=\"1.0\" encoding=\"UTF-8\" standalone=\"no\"?>\n",
       "<!DOCTYPE svg PUBLIC \"-//W3C//DTD SVG 1.1//EN\"\n",
       " \"http://www.w3.org/Graphics/SVG/1.1/DTD/svg11.dtd\">\n",
       "<!-- Generated by graphviz version 2.43.0 (0)\n",
       " -->\n",
       "<!-- Title: %3 Pages: 1 -->\n",
       "<svg width=\"214pt\" height=\"548pt\"\n",
       " viewBox=\"0.00 0.00 213.56 548.00\" xmlns=\"http://www.w3.org/2000/svg\" xmlns:xlink=\"http://www.w3.org/1999/xlink\">\n",
       "<g id=\"graph0\" class=\"graph\" transform=\"scale(1 1) rotate(0) translate(4 544)\">\n",
       "<title>%3</title>\n",
       "<polygon fill=\"white\" stroke=\"transparent\" points=\"-4,4 -4,-544 209.56,-544 209.56,4 -4,4\"/>\n",
       "<!-- 0 -->\n",
       "<g id=\"node1\" class=\"node\">\n",
       "<title>0</title>\n",
       "<ellipse fill=\"cyan\" stroke=\"black\" cx=\"40.56\" cy=\"-378\" rx=\"40.62\" ry=\"18\"/>\n",
       "<text text-anchor=\"middle\" x=\"40.56\" y=\"-373.8\" font-family=\"Times,serif\" font-size=\"14.00\">0 : (1, 0)</text>\n",
       "</g>\n",
       "<!-- 1 -->\n",
       "<g id=\"node2\" class=\"node\">\n",
       "<title>1</title>\n",
       "<ellipse fill=\"cyan\" stroke=\"black\" cx=\"137.56\" cy=\"-18\" rx=\"40.62\" ry=\"18\"/>\n",
       "<text text-anchor=\"middle\" x=\"137.56\" y=\"-13.8\" font-family=\"Times,serif\" font-size=\"14.00\">1 : (1, 0)</text>\n",
       "</g>\n",
       "<!-- 2 -->\n",
       "<g id=\"node3\" class=\"node\">\n",
       "<title>2</title>\n",
       "<ellipse fill=\"none\" stroke=\"black\" cx=\"106.56\" cy=\"-450\" rx=\"27\" ry=\"18\"/>\n",
       "<text text-anchor=\"middle\" x=\"106.56\" y=\"-445.8\" font-family=\"Times,serif\" font-size=\"14.00\"> </text>\n",
       "</g>\n",
       "<!-- 2&#45;&gt;0 -->\n",
       "<g id=\"edge1\" class=\"edge\">\n",
       "<title>2&#45;&gt;0</title>\n",
       "<path fill=\"none\" stroke=\"black\" d=\"M92.57,-434.15C83.8,-424.85 72.31,-412.67 62.37,-402.12\"/>\n",
       "<polygon fill=\"black\" stroke=\"black\" points=\"64.86,-399.67 55.46,-394.8 59.77,-404.47 64.86,-399.67\"/>\n",
       "</g>\n",
       "<!-- 2&#45;&gt;1 -->\n",
       "<g id=\"edge2\" class=\"edge\">\n",
       "<title>2&#45;&gt;1</title>\n",
       "<path fill=\"none\" stroke=\"black\" d=\"M107.35,-431.96C108.52,-405.3 110.56,-352.13 110.56,-307 110.56,-307 110.56,-307 110.56,-161 110.56,-120.28 121.41,-74.13 129.35,-45.79\"/>\n",
       "<polygon fill=\"black\" stroke=\"black\" points=\"132.81,-46.43 132.23,-35.85 126.09,-44.49 132.81,-46.43\"/>\n",
       "</g>\n",
       "<!-- 3 -->\n",
       "<g id=\"node4\" class=\"node\">\n",
       "<title>3</title>\n",
       "<ellipse fill=\"none\" stroke=\"black\" cx=\"34.56\" cy=\"-450\" rx=\"27\" ry=\"18\"/>\n",
       "<text text-anchor=\"middle\" x=\"34.56\" y=\"-445.8\" font-family=\"Times,serif\" font-size=\"14.00\"> </text>\n",
       "</g>\n",
       "<!-- 3&#45;&gt;0 -->\n",
       "<g id=\"edge3\" class=\"edge\">\n",
       "<title>3&#45;&gt;0</title>\n",
       "<path fill=\"none\" stroke=\"black\" d=\"M36.05,-431.7C36.71,-423.98 37.5,-414.71 38.24,-406.11\"/>\n",
       "<polygon fill=\"black\" stroke=\"black\" points=\"41.73,-406.37 39.1,-396.1 34.75,-405.77 41.73,-406.37\"/>\n",
       "</g>\n",
       "<!-- 4 -->\n",
       "<g id=\"node5\" class=\"node\">\n",
       "<title>4</title>\n",
       "<ellipse fill=\"none\" stroke=\"black\" cx=\"165.56\" cy=\"-90\" rx=\"27\" ry=\"18\"/>\n",
       "<text text-anchor=\"middle\" x=\"165.56\" y=\"-85.8\" font-family=\"Times,serif\" font-size=\"14.00\"> </text>\n",
       "</g>\n",
       "<!-- 4&#45;&gt;1 -->\n",
       "<g id=\"edge4\" class=\"edge\">\n",
       "<title>4&#45;&gt;1</title>\n",
       "<path fill=\"none\" stroke=\"black\" d=\"M158.93,-72.41C155.7,-64.34 151.73,-54.43 148.1,-45.35\"/>\n",
       "<polygon fill=\"black\" stroke=\"black\" points=\"151.31,-43.94 144.34,-35.96 144.81,-46.54 151.31,-43.94\"/>\n",
       "</g>\n",
       "<!-- 5 -->\n",
       "<g id=\"node6\" class=\"node\">\n",
       "<title>5</title>\n",
       "<ellipse fill=\"none\" stroke=\"black\" cx=\"166.56\" cy=\"-162\" rx=\"27\" ry=\"18\"/>\n",
       "<text text-anchor=\"middle\" x=\"166.56\" y=\"-157.8\" font-family=\"Times,serif\" font-size=\"14.00\"> </text>\n",
       "</g>\n",
       "<!-- 5&#45;&gt;4 -->\n",
       "<g id=\"edge5\" class=\"edge\">\n",
       "<title>5&#45;&gt;4</title>\n",
       "<path fill=\"none\" stroke=\"black\" d=\"M166.32,-143.7C166.2,-135.98 166.07,-126.71 165.95,-118.11\"/>\n",
       "<polygon fill=\"black\" stroke=\"black\" points=\"169.45,-118.05 165.81,-108.1 162.45,-118.15 169.45,-118.05\"/>\n",
       "</g>\n",
       "<!-- 6 -->\n",
       "<g id=\"node7\" class=\"node\">\n",
       "<title>6</title>\n",
       "<ellipse fill=\"none\" stroke=\"black\" cx=\"167.56\" cy=\"-234\" rx=\"27\" ry=\"18\"/>\n",
       "<text text-anchor=\"middle\" x=\"167.56\" y=\"-229.8\" font-family=\"Times,serif\" font-size=\"14.00\"> </text>\n",
       "</g>\n",
       "<!-- 6&#45;&gt;5 -->\n",
       "<g id=\"edge6\" class=\"edge\">\n",
       "<title>6&#45;&gt;5</title>\n",
       "<path fill=\"none\" stroke=\"black\" d=\"M167.32,-215.7C167.2,-207.98 167.07,-198.71 166.95,-190.11\"/>\n",
       "<polygon fill=\"black\" stroke=\"black\" points=\"170.45,-190.05 166.81,-180.1 163.45,-190.15 170.45,-190.05\"/>\n",
       "</g>\n",
       "<!-- 7 -->\n",
       "<g id=\"node8\" class=\"node\">\n",
       "<title>7</title>\n",
       "<ellipse fill=\"none\" stroke=\"black\" cx=\"169.56\" cy=\"-306\" rx=\"27\" ry=\"18\"/>\n",
       "<text text-anchor=\"middle\" x=\"169.56\" y=\"-301.8\" font-family=\"Times,serif\" font-size=\"14.00\"> </text>\n",
       "</g>\n",
       "<!-- 7&#45;&gt;6 -->\n",
       "<g id=\"edge7\" class=\"edge\">\n",
       "<title>7&#45;&gt;6</title>\n",
       "<path fill=\"none\" stroke=\"black\" d=\"M169.07,-287.7C168.85,-279.98 168.58,-270.71 168.34,-262.11\"/>\n",
       "<polygon fill=\"black\" stroke=\"black\" points=\"171.84,-262 168.05,-252.1 164.84,-262.2 171.84,-262\"/>\n",
       "</g>\n",
       "<!-- 8 -->\n",
       "<g id=\"node9\" class=\"node\">\n",
       "<title>8</title>\n",
       "<ellipse fill=\"none\" stroke=\"black\" cx=\"173.56\" cy=\"-378\" rx=\"27\" ry=\"18\"/>\n",
       "<text text-anchor=\"middle\" x=\"173.56\" y=\"-373.8\" font-family=\"Times,serif\" font-size=\"14.00\"> </text>\n",
       "</g>\n",
       "<!-- 8&#45;&gt;7 -->\n",
       "<g id=\"edge8\" class=\"edge\">\n",
       "<title>8&#45;&gt;7</title>\n",
       "<path fill=\"none\" stroke=\"black\" d=\"M172.57,-359.7C172.13,-351.98 171.6,-342.71 171.11,-334.11\"/>\n",
       "<polygon fill=\"black\" stroke=\"black\" points=\"174.6,-333.89 170.54,-324.1 167.62,-334.29 174.6,-333.89\"/>\n",
       "</g>\n",
       "<!-- 9 -->\n",
       "<g id=\"node10\" class=\"node\">\n",
       "<title>9</title>\n",
       "<ellipse fill=\"none\" stroke=\"black\" cx=\"178.56\" cy=\"-450\" rx=\"27\" ry=\"18\"/>\n",
       "<text text-anchor=\"middle\" x=\"178.56\" y=\"-445.8\" font-family=\"Times,serif\" font-size=\"14.00\"> </text>\n",
       "</g>\n",
       "<!-- 9&#45;&gt;8 -->\n",
       "<g id=\"edge9\" class=\"edge\">\n",
       "<title>9&#45;&gt;8</title>\n",
       "<path fill=\"none\" stroke=\"black\" d=\"M177.33,-431.7C176.78,-423.98 176.11,-414.71 175.5,-406.11\"/>\n",
       "<polygon fill=\"black\" stroke=\"black\" points=\"178.99,-405.83 174.78,-396.1 172.01,-406.33 178.99,-405.83\"/>\n",
       "</g>\n",
       "<!-- 10 -->\n",
       "<g id=\"node11\" class=\"node\">\n",
       "<title>10</title>\n",
       "<ellipse fill=\"cyan\" stroke=\"black\" cx=\"106.56\" cy=\"-522\" rx=\"44.97\" ry=\"18\"/>\n",
       "<text text-anchor=\"middle\" x=\"106.56\" y=\"-517.8\" font-family=\"Times,serif\" font-size=\"14.00\">10 : (0, 1)</text>\n",
       "</g>\n",
       "<!-- 10&#45;&gt;3 -->\n",
       "<g id=\"edge11\" class=\"edge\">\n",
       "<title>10&#45;&gt;3</title>\n",
       "<path fill=\"none\" stroke=\"black\" d=\"M90.22,-505.12C80.34,-495.51 67.61,-483.13 56.81,-472.63\"/>\n",
       "<polygon fill=\"black\" stroke=\"black\" points=\"58.98,-469.85 49.37,-465.39 54.1,-474.87 58.98,-469.85\"/>\n",
       "</g>\n",
       "<!-- 10&#45;&gt;9 -->\n",
       "<g id=\"edge10\" class=\"edge\">\n",
       "<title>10&#45;&gt;9</title>\n",
       "<path fill=\"none\" stroke=\"black\" d=\"M122.9,-505.12C132.78,-495.51 145.52,-483.13 156.31,-472.63\"/>\n",
       "<polygon fill=\"black\" stroke=\"black\" points=\"159.03,-474.87 163.76,-465.39 154.15,-469.85 159.03,-474.87\"/>\n",
       "</g>\n",
       "</g>\n",
       "</svg>\n"
      ],
      "text/plain": [
       "<pychomp.DrawGradedComplex.DrawGradedComplex at 0x1254e5588>"
      ]
     },
     "execution_count": 13,
     "metadata": {},
     "output_type": "execute_result"
    }
   ],
   "source": [
    "df = DrawGradedComplex(conley_complex,poset)\n",
    "df"
   ]
  },
  {
   "cell_type": "code",
   "execution_count": 14,
   "metadata": {},
   "outputs": [],
   "source": [
    "#dot = graphviz.Source(df.graphviz())\n",
    "#dot.render('test-output/GC.gv', view=True) "
   ]
  },
  {
   "cell_type": "code",
   "execution_count": 15,
   "metadata": {},
   "outputs": [],
   "source": [
    "recurrent_poset = Poset(InducedSubgraph(TransitiveClosure(poset.get_children()),\n",
    "                                                lambda v : v in conley_complex.count()))"
   ]
  },
  {
   "cell_type": "code",
   "execution_count": 16,
   "metadata": {},
   "outputs": [],
   "source": [
    "df = DrawGradedComplex(conley_complex,recurrent_poset)"
   ]
  },
  {
   "cell_type": "code",
   "execution_count": 17,
   "metadata": {},
   "outputs": [
    {
     "data": {
      "image/svg+xml": [
       "<?xml version=\"1.0\" encoding=\"UTF-8\" standalone=\"no\"?>\n",
       "<!DOCTYPE svg PUBLIC \"-//W3C//DTD SVG 1.1//EN\"\n",
       " \"http://www.w3.org/Graphics/SVG/1.1/DTD/svg11.dtd\">\n",
       "<!-- Generated by graphviz version 2.43.0 (0)\n",
       " -->\n",
       "<!-- Title: %3 Pages: 1 -->\n",
       "<svg width=\"188pt\" height=\"116pt\"\n",
       " viewBox=\"0.00 0.00 188.12 116.00\" xmlns=\"http://www.w3.org/2000/svg\" xmlns:xlink=\"http://www.w3.org/1999/xlink\">\n",
       "<g id=\"graph0\" class=\"graph\" transform=\"scale(1 1) rotate(0) translate(4 112)\">\n",
       "<title>%3</title>\n",
       "<polygon fill=\"white\" stroke=\"transparent\" points=\"-4,4 -4,-112 184.12,-112 184.12,4 -4,4\"/>\n",
       "<!-- 0 -->\n",
       "<g id=\"node1\" class=\"node\">\n",
       "<title>0</title>\n",
       "<ellipse fill=\"cyan\" stroke=\"black\" cx=\"40.56\" cy=\"-18\" rx=\"40.62\" ry=\"18\"/>\n",
       "<text text-anchor=\"middle\" x=\"40.56\" y=\"-13.8\" font-family=\"Times,serif\" font-size=\"14.00\">0 : (1, 0)</text>\n",
       "</g>\n",
       "<!-- 1 -->\n",
       "<g id=\"node2\" class=\"node\">\n",
       "<title>1</title>\n",
       "<ellipse fill=\"cyan\" stroke=\"black\" cx=\"139.56\" cy=\"-18\" rx=\"40.62\" ry=\"18\"/>\n",
       "<text text-anchor=\"middle\" x=\"139.56\" y=\"-13.8\" font-family=\"Times,serif\" font-size=\"14.00\">1 : (1, 0)</text>\n",
       "</g>\n",
       "<!-- 2 -->\n",
       "<g id=\"node3\" class=\"node\">\n",
       "<title>2</title>\n",
       "<ellipse fill=\"cyan\" stroke=\"black\" cx=\"89.56\" cy=\"-90\" rx=\"44.97\" ry=\"18\"/>\n",
       "<text text-anchor=\"middle\" x=\"89.56\" y=\"-85.8\" font-family=\"Times,serif\" font-size=\"14.00\">10 : (0, 1)</text>\n",
       "</g>\n",
       "<!-- 2&#45;&gt;0 -->\n",
       "<g id=\"edge1\" class=\"edge\">\n",
       "<title>2&#45;&gt;0</title>\n",
       "<path fill=\"none\" stroke=\"black\" d=\"M77.95,-72.41C71.97,-63.87 64.56,-53.28 57.91,-43.79\"/>\n",
       "<polygon fill=\"black\" stroke=\"black\" points=\"60.69,-41.66 52.09,-35.47 54.96,-45.67 60.69,-41.66\"/>\n",
       "</g>\n",
       "<!-- 2&#45;&gt;1 -->\n",
       "<g id=\"edge2\" class=\"edge\">\n",
       "<title>2&#45;&gt;1</title>\n",
       "<path fill=\"none\" stroke=\"black\" d=\"M101.41,-72.41C107.51,-63.87 115.08,-53.28 121.86,-43.79\"/>\n",
       "<polygon fill=\"black\" stroke=\"black\" points=\"124.83,-45.64 127.8,-35.47 119.14,-41.57 124.83,-45.64\"/>\n",
       "</g>\n",
       "</g>\n",
       "</svg>\n"
      ],
      "text/plain": [
       "<pychomp.DrawGradedComplex.DrawGradedComplex at 0x1255bdc50>"
      ]
     },
     "execution_count": 17,
     "metadata": {},
     "output_type": "execute_result"
    }
   ],
   "source": [
    "df"
   ]
  },
  {
   "cell_type": "code",
   "execution_count": 18,
   "metadata": {},
   "outputs": [],
   "source": [
    "#dot = graphviz.Source(df.graphviz())\n",
    "#dot.render('test-output/CMG.gv') "
   ]
  },
  {
   "cell_type": "code",
   "execution_count": 19,
   "metadata": {},
   "outputs": [],
   "source": [
    "#Lift Generators"
   ]
  },
  {
   "cell_type": "code",
   "execution_count": 20,
   "metadata": {},
   "outputs": [],
   "source": [
    "def lift(chain, tower):\n",
    "    for m in reversed(tower[1:]):\n",
    "        chain = m.complex().lift(chain)\n",
    "    return chain"
   ]
  },
  {
   "cell_type": "code",
   "execution_count": 21,
   "metadata": {},
   "outputs": [],
   "source": [
    "CMTower = ConnectionMatrixTower(GC.graded_complex)"
   ]
  },
  {
   "cell_type": "code",
   "execution_count": 22,
   "metadata": {},
   "outputs": [
    {
     "name": "stdout",
     "output_type": "stream",
     "text": [
      "0 {1}\n",
      "1 {10}\n",
      "2 {12, 13, 14, 15, 16, 17, 18, 19, 20}\n"
     ]
    }
   ],
   "source": [
    "for cell in conley_complex.complex():\n",
    "    print(cell,lift({cell},CMTower))"
   ]
  },
  {
   "cell_type": "code",
   "execution_count": null,
   "metadata": {},
   "outputs": [],
   "source": []
  },
  {
   "cell_type": "code",
   "execution_count": null,
   "metadata": {},
   "outputs": [],
   "source": []
  }
 ],
 "metadata": {
  "kernelspec": {
   "display_name": "Python 3",
   "language": "python",
   "name": "python3"
  },
  "language_info": {
   "codemirror_mode": {
    "name": "ipython",
    "version": 3
   },
   "file_extension": ".py",
   "mimetype": "text/x-python",
   "name": "python",
   "nbconvert_exporter": "python",
   "pygments_lexer": "ipython3",
   "version": "3.7.3"
  }
 },
 "nbformat": 4,
 "nbformat_minor": 2
}
