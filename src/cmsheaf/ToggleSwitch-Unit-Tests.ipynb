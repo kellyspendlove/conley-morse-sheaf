{
 "cells": [
  {
   "cell_type": "code",
   "execution_count": null,
   "metadata": {},
   "outputs": [],
   "source": [
    "from TransversalitySheaf import *\n",
    "from ConleySheaf import *\n",
    "from FlowSheaf import *\n",
    "from pychomp import *\n",
    "from Model import *\n",
    "\n",
    "\n",
    "import matplotlib.pyplot as plt\n",
    "from matplotlib import colors"
   ]
  },
  {
   "cell_type": "code",
   "execution_count": null,
   "metadata": {},
   "outputs": [],
   "source": [
    "model_name = 'toggle'\n",
    "model = Model(model_name)"
   ]
  },
  {
   "cell_type": "code",
   "execution_count": null,
   "metadata": {},
   "outputs": [],
   "source": [
    "params = [2.52,2.52]"
   ]
  },
  {
   "cell_type": "code",
   "execution_count": null,
   "metadata": {},
   "outputs": [],
   "source": [
    "model.simulate([.5,.5],params)"
   ]
  },
  {
   "cell_type": "code",
   "execution_count": null,
   "metadata": {},
   "outputs": [],
   "source": [
    "base = GeometricCubicalComplex(model.base_bounds,model.base_boxes)\n",
    "B = base.complex"
   ]
  },
  {
   "cell_type": "code",
   "execution_count": null,
   "metadata": {},
   "outputs": [],
   "source": [
    "[a_min,a_max],[b_min,b_max] = base.bounds\n",
    "a_vert = [a_min+i*base.delta[0] for i in range(base.boxes[0]+1)]\n",
    "b_vert = [b_min+i*base.delta[1] for i in range(base.boxes[1]+1)]"
   ]
  },
  {
   "cell_type": "code",
   "execution_count": null,
   "metadata": {},
   "outputs": [],
   "source": [
    "phase_complex = GeometricCubicalComplex(model.phase_bounds, model.phase_boxes)\n",
    "X = phase_complex.complex"
   ]
  },
  {
   "cell_type": "code",
   "execution_count": null,
   "metadata": {},
   "outputs": [],
   "source": [
    "[xmin,xmax],[ymin,ymax] = phase_complex.bounds\n",
    "x_vert = [xmin+i*phase_complex.delta[0] for i in range(phase_complex.boxes[0]+1)]\n",
    "y_vert = [ymin+i*phase_complex.delta[1] for i in range(phase_complex.boxes[1]+1)]"
   ]
  },
  {
   "cell_type": "code",
   "execution_count": null,
   "metadata": {},
   "outputs": [],
   "source": [
    "C, discrete_flow = TransversalityComplex(phase_complex, model.ODE_Model,params,model.num_samples)\n",
    "FC = FlowComplex(C, discrete_flow)"
   ]
  },
  {
   "cell_type": "code",
   "execution_count": null,
   "metadata": {},
   "outputs": [],
   "source": [
    "\"\"\"\"\n",
    "I need to define the possible values my initial points will take as they\n",
    "relate to the equilibrium point. In this case I chose to plot 10 trajectories\n",
    "ranging from 0.1 to 5\n",
    "\"\"\"\n",
    "#values = np.linspace(-1.25, 1.25, 10)\n",
    "# I want each trajectory to have a different color\n",
    "#vcolors = plt.cm.autumn_r(np.linspace(0.1, 1, len(values)))\n",
    " \n",
    "# Open figure\n",
    "f = plt.figure()\n",
    "\"\"\"\n",
    "I need to define a range of time over which to integrate the system of ODEs\n",
    "The values don't really matter in this case because our system doesn't have t\n",
    "on the right hand side of dx/dt and dy/dt, but it is a necessary input for\n",
    "integrate.odeint.\n",
    "\"\"\"\n",
    "\n",
    "# Get limits of trajectory plot\n",
    "#xmax,ymax = 1.25,1.25\n",
    "#ymax = plt.ylim(ymin=0)[1]\n",
    "#xmax = plt.xlim(xmin=0)[1]\n",
    "# Define number of points\n",
    "nb_points = 20\n",
    "# Define x and y ranges\n",
    "x = np.linspace(xmin, xmax, nb_points)\n",
    "y = np.linspace(ymin, ymax, nb_points)\n",
    "# Create meshgrid\n",
    "X1 , Y1 = np.meshgrid(x,y)\n",
    "# Calculate growth rate at each grid point\n",
    "DX1, DY1 = model.ODE_Model([X1, Y1],params)\n",
    "# Direction at each grid point is the hypotenuse of the prey direction and the\n",
    "# predator direction.\n",
    "M = (np.hypot(DX1, DY1))\n",
    "# This is to avoid any divisions when normalizing\n",
    "M[ M == 0] = 1.\n",
    "# Normalize the length of each arrow (optional)\n",
    "DX1 /= M\n",
    "DY1 /= M\n",
    " \n",
    "plt.title('Trajectories and direction fields')\n",
    "\"\"\"\n",
    "This is using the quiver function to plot the field of arrows using DX1 and\n",
    "DY1 for direction and M for speed\n",
    "\"\"\"\n",
    "Q = plt.quiver(X1, Y1, DX1, DY1, M, pivot='mid', cmap=plt.cm.plasma)\n",
    "plt.xlabel('x')\n",
    "plt.ylabel('y')\n",
    "#plt.legend(bbox_to_anchor=(1.05, 1.0))\n",
    "plt.grid(True)\n",
    "plt.xticks(x_vert)\n",
    "plt.yticks(y_vert)\n",
    "#plt.grid()\n",
    "plt.xlim(xmin, xmax)\n",
    "plt.ylim(ymin, ymax)\n",
    "plt.show()"
   ]
  },
  {
   "cell_type": "code",
   "execution_count": null,
   "metadata": {},
   "outputs": [],
   "source": [
    "x_pos = []\n",
    "y_pos = []\n",
    "x_dir = []\n",
    "y_dir = []\n",
    "for u in discrete_flow.keys():\n",
    "    if X.rightfringe(u): continue\n",
    "    u_barys = [(bounds[1]+bounds[0])/2 for bounds in phase_complex.geometry(u)]\n",
    "    #print(u,u_barys)\n",
    "    for v in discrete_flow[u]:\n",
    "        if X.rightfringe(v): continue\n",
    "        v_barys = [(bounds[1]+bounds[0])/2 for bounds in phase_complex.geometry(v)]\n",
    "        x_pos . append (u_barys[0])\n",
    "        y_pos . append (u_barys[1])\n",
    "        x_dir . append (v_barys[0]-u_barys[0])\n",
    "        y_dir . append (v_barys[1]-u_barys[1])"
   ]
  },
  {
   "cell_type": "code",
   "execution_count": null,
   "metadata": {},
   "outputs": [],
   "source": [
    "plt.title('Directed Graph')\n",
    "\"\"\"\n",
    "This is using the quiver function to plot arrows on top cells\n",
    "\"\"\"\n",
    "Q = plt.quiver(x_pos, y_pos, x_dir, y_dir,scale=10)\n",
    "plt.xlabel('X')\n",
    "plt.ylabel('Y')\n",
    "plt.grid(True)\n",
    "plt.xticks(x_vert)\n",
    "plt.yticks(y_vert)\n",
    "#plt.grid()\n",
    "plt.xlim(xmin, xmax)\n",
    "plt.ylim(ymin, ymax)\n",
    "plt.show()"
   ]
  },
  {
   "cell_type": "code",
   "execution_count": null,
   "metadata": {},
   "outputs": [],
   "source": [
    "GC = GradedComplexObj.induce_from_flow(FC.complex, lambda x: FC.discrete_flow[x])"
   ]
  },
  {
   "cell_type": "code",
   "execution_count": null,
   "metadata": {},
   "outputs": [],
   "source": [
    "DrawGradedComplex(GC.graded_complex,GC.poset)"
   ]
  },
  {
   "cell_type": "code",
   "execution_count": null,
   "metadata": {},
   "outputs": [],
   "source": [
    "#GC.poset.children(7)"
   ]
  },
  {
   "cell_type": "code",
   "execution_count": null,
   "metadata": {},
   "outputs": [],
   "source": [
    "conley_complex = ConnectionMatrix(GC.graded_complex)\n",
    "poset = GC.poset\n",
    "DrawGradedComplex(conley_complex,poset)"
   ]
  },
  {
   "cell_type": "code",
   "execution_count": null,
   "metadata": {},
   "outputs": [],
   "source": [
    "#REDUCED TOGGLE CLUSTERING"
   ]
  },
  {
   "cell_type": "code",
   "execution_count": null,
   "metadata": {},
   "outputs": [],
   "source": [
    "model_name = 'reduced_toggle'\n",
    "model = Model(model_name)"
   ]
  },
  {
   "cell_type": "code",
   "execution_count": null,
   "metadata": {},
   "outputs": [],
   "source": [
    "base = GeometricCubicalComplex(model.base_bounds,model.base_boxes)\n",
    "B = base.complex\n",
    "phase_specs = [model.phase_bounds,model.phase_boxes]"
   ]
  },
  {
   "cell_type": "code",
   "execution_count": null,
   "metadata": {},
   "outputs": [],
   "source": [
    "#%%time\n",
    "#flow_sheaf = SheafFromVertices(TransversalitySheaf(base, model.ODE_Model, phase_specs, model.num_samples))"
   ]
  },
  {
   "cell_type": "code",
   "execution_count": null,
   "metadata": {},
   "outputs": [],
   "source": [
    "%%time\n",
    "conley_sheaf = ConleySheaf(GradeFlowSheaf(SheafFromVertices(TransversalitySheaf(base, model.ODE_Model, phase_specs, model.num_samples))))"
   ]
  },
  {
   "cell_type": "code",
   "execution_count": null,
   "metadata": {},
   "outputs": [],
   "source": [
    "recurrent_sheaf = RecurrentSheaf(conley_sheaf)"
   ]
  },
  {
   "cell_type": "code",
   "execution_count": null,
   "metadata": {},
   "outputs": [],
   "source": [
    "DrawGradedComplex(conley_sheaf.mapping[40].graded_complex,conley_sheaf.mapping[40].poset)"
   ]
  },
  {
   "cell_type": "code",
   "execution_count": null,
   "metadata": {},
   "outputs": [],
   "source": [
    "DrawGradedComplex(recurrent_sheaf.mapping[40].graded_complex,recurrent_sheaf.mapping[40].poset)"
   ]
  },
  {
   "cell_type": "code",
   "execution_count": null,
   "metadata": {},
   "outputs": [],
   "source": []
  },
  {
   "cell_type": "code",
   "execution_count": null,
   "metadata": {},
   "outputs": [],
   "source": []
  },
  {
   "cell_type": "code",
   "execution_count": null,
   "metadata": {},
   "outputs": [],
   "source": [
    "face_poset = base.face_poset"
   ]
  },
  {
   "cell_type": "code",
   "execution_count": null,
   "metadata": {},
   "outputs": [],
   "source": [
    "face_poset"
   ]
  },
  {
   "cell_type": "code",
   "execution_count": null,
   "metadata": {},
   "outputs": [],
   "source": [
    "def InducedPoset( G, predicate ):\n",
    "    result = DirectedAcyclicGraph()\n",
    "    S = set([v for v in G.vertices() if predicate(v)])\n",
    "    for v in S:\n",
    "        result.add_vertex(v)\n",
    "    for v in S:\n",
    "        for u in G.children(v):\n",
    "            if u in S and u != v:\n",
    "                result.add_edge(v,u)\n",
    "    return Poset(result)\n",
    "def subposet_iso(poset_map, A, B):\n",
    "    #A,B the subposets\n",
    "    img = [poset_map(v) for v in A.vertices()]\n",
    "    img_set = set(img)\n",
    "    if not len(img)==len(img_set):\n",
    "        return False\n",
    "    if not img_set==B.vertices():\n",
    "        return False\n",
    "    return True"
   ]
  },
  {
   "cell_type": "code",
   "execution_count": null,
   "metadata": {},
   "outputs": [],
   "source": [
    "#Clustering algorithm, with flag for changing localization criterion\n",
    "reducedFlag = True\n",
    "localize = face_poset\n",
    "for (u,v) in face_poset.edges():\n",
    "    if B.rightfringe(u) or B.rightfringe(v): continue\n",
    "    conley_map = recurrent_sheaf.mapping[(u,v)]\n",
    "    gc_u = recurrent_sheaf.mapping[u]\n",
    "    gc_v = recurrent_sheaf.mapping[v]\n",
    "    #rc_u = InducedPoset(gc_u.poset, lambda v : v in gc_u.graded_complex.count() )\n",
    "    #rc_v = InducedPoset(gc_v.poset, lambda v : v in gc_v.graded_complex.count() )\n",
    "    if reducedFlag:\n",
    "        if subposet_iso(conley_map.poset_map, gc_v.poset, gc_u.poset):\n",
    "            #print(v,u)\n",
    "            localize.add_edge(v,u)\n",
    "    else:\n",
    "        if conley_map.poset_iso(conley_sheaf.mapping[v],conley_sheaf.mapping[u]):\n",
    "            #print(v,u)\n",
    "            localize.add_edge(v,u)"
   ]
  },
  {
   "cell_type": "code",
   "execution_count": null,
   "metadata": {},
   "outputs": [],
   "source": [
    "scc,mapping = CondensationGraph(face_poset.vertices(),lambda x : face_poset.adjacencies(x))"
   ]
  },
  {
   "cell_type": "code",
   "execution_count": null,
   "metadata": {},
   "outputs": [],
   "source": [
    "scc"
   ]
  },
  {
   "cell_type": "code",
   "execution_count": null,
   "metadata": {},
   "outputs": [],
   "source": [
    "graded_base = GradedComplex(base.complex, lambda x : mapping[x])"
   ]
  },
  {
   "cell_type": "code",
   "execution_count": null,
   "metadata": {},
   "outputs": [],
   "source": [
    "DrawGradedComplex(graded_base,Poset(scc))"
   ]
  },
  {
   "cell_type": "code",
   "execution_count": null,
   "metadata": {},
   "outputs": [],
   "source": [
    "reduced_base = ConnectionMatrix(graded_base)"
   ]
  },
  {
   "cell_type": "code",
   "execution_count": null,
   "metadata": {},
   "outputs": [],
   "source": [
    "DrawGradedComplex(reduced_base,Poset(scc))"
   ]
  },
  {
   "cell_type": "code",
   "execution_count": null,
   "metadata": {},
   "outputs": [],
   "source": [
    "data = np.zeros(base.boxes[0])"
   ]
  },
  {
   "cell_type": "code",
   "execution_count": null,
   "metadata": {},
   "outputs": [],
   "source": []
  },
  {
   "cell_type": "code",
   "execution_count": null,
   "metadata": {},
   "outputs": [],
   "source": [
    "data.shape"
   ]
  },
  {
   "cell_type": "code",
   "execution_count": null,
   "metadata": {},
   "outputs": [],
   "source": [
    "for top_cell in B(B.dimension()):\n",
    "    if B.rightfringe(top_cell): continue\n",
    "    print(top_cell,base.geometry(top_cell), mapping[top_cell])\n",
    "    print(recurrent_sheaf.mapping[top_cell].graded_complex.complex().size())\n",
    "    print(\"---\")\n",
    "    #print(B.boundary({top_cell}))"
   ]
  },
  {
   "cell_type": "code",
   "execution_count": null,
   "metadata": {},
   "outputs": [],
   "source": [
    "# for cell in B:\n",
    "#     if B.rightfringe(cell): continue\n",
    "#     print(cell,base.geometry(cell), mapping[cell])"
   ]
  },
  {
   "cell_type": "code",
   "execution_count": null,
   "metadata": {},
   "outputs": [],
   "source": [
    "index = 69\n",
    "DrawGradedComplex(recurrent_sheaf.mapping[index].graded_complex,recurrent_sheaf.mapping[index].poset)"
   ]
  },
  {
   "cell_type": "code",
   "execution_count": null,
   "metadata": {},
   "outputs": [],
   "source": [
    "index = 70\n",
    "DrawGradedComplex(recurrent_sheaf.mapping[index].graded_complex,recurrent_sheaf.mapping[index].poset)"
   ]
  },
  {
   "cell_type": "code",
   "execution_count": null,
   "metadata": {},
   "outputs": [],
   "source": [
    "index = 19\n",
    "DrawGradedComplex(recurrent_sheaf.mapping[index].graded_complex,recurrent_sheaf.mapping[index].poset)"
   ]
  },
  {
   "cell_type": "code",
   "execution_count": null,
   "metadata": {},
   "outputs": [],
   "source": [
    "index = 20\n",
    "DrawGradedComplex(recurrent_sheaf.mapping[index].graded_complex,recurrent_sheaf.mapping[index].poset)"
   ]
  },
  {
   "cell_type": "code",
   "execution_count": null,
   "metadata": {},
   "outputs": [],
   "source": [
    "base.geometry(19)"
   ]
  },
  {
   "cell_type": "code",
   "execution_count": null,
   "metadata": {},
   "outputs": [],
   "source": [
    "recurrent_sheaf.mapping[(69,19)].poset_map(0)"
   ]
  },
  {
   "cell_type": "code",
   "execution_count": null,
   "metadata": {},
   "outputs": [],
   "source": []
  },
  {
   "cell_type": "code",
   "execution_count": null,
   "metadata": {},
   "outputs": [],
   "source": [
    "index = 40\n",
    "DrawGradedComplex(conley_sheaf.mapping[index].graded_complex,conley_sheaf.mapping[index].poset)"
   ]
  },
  {
   "cell_type": "code",
   "execution_count": null,
   "metadata": {},
   "outputs": [],
   "source": []
  },
  {
   "cell_type": "code",
   "execution_count": null,
   "metadata": {},
   "outputs": [],
   "source": []
  },
  {
   "cell_type": "code",
   "execution_count": null,
   "metadata": {},
   "outputs": [],
   "source": []
  },
  {
   "cell_type": "code",
   "execution_count": null,
   "metadata": {},
   "outputs": [],
   "source": [
    "#cc = conley_sheaf.mapping[12]"
   ]
  },
  {
   "cell_type": "code",
   "execution_count": null,
   "metadata": {},
   "outputs": [],
   "source": [
    "#rc = InducedPoset(cc.poset, lambda v : v in cc.graded_complex.count() )"
   ]
  },
  {
   "cell_type": "code",
   "execution_count": null,
   "metadata": {},
   "outputs": [],
   "source": [
    "#DrawGradedComplex(cc.graded_complex,rc)"
   ]
  },
  {
   "cell_type": "code",
   "execution_count": null,
   "metadata": {},
   "outputs": [],
   "source": []
  }
 ],
 "metadata": {
  "kernelspec": {
   "display_name": "Python 3",
   "language": "python",
   "name": "python3"
  },
  "language_info": {
   "codemirror_mode": {
    "name": "ipython",
    "version": 3
   },
   "file_extension": ".py",
   "mimetype": "text/x-python",
   "name": "python",
   "nbconvert_exporter": "python",
   "pygments_lexer": "ipython3",
   "version": "3.7.3"
  }
 },
 "nbformat": 4,
 "nbformat_minor": 2
}
