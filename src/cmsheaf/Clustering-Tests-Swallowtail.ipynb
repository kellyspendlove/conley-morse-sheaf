{
 "cells": [
  {
   "cell_type": "code",
   "execution_count": null,
   "metadata": {},
   "outputs": [],
   "source": [
    "from TransversalitySheaf import *\n",
    "from ConleySheaf import *\n",
    "from FlowSheaf import *\n",
    "from pychomp import *\n",
    "\n",
    "\n",
    "import matplotlib.pyplot as plt\n",
    "from matplotlib import colors\n",
    "from mpl_toolkits.mplot3d import Axes3D\n",
    "import numpy as np"
   ]
  },
  {
   "cell_type": "code",
   "execution_count": null,
   "metadata": {},
   "outputs": [],
   "source": [
    "#Swallowtail\n",
    "def ST ( x, params):\n",
    "    a,b,c = params\n",
    "    return x**4 + a*x**2 + b*x + c\n",
    "#Cusp catastrophe\n",
    "def cusp ( x, params ):\n",
    "    a,b = params\n",
    "    return -x**3 + a*x + b"
   ]
  },
  {
   "cell_type": "code",
   "execution_count": null,
   "metadata": {},
   "outputs": [],
   "source": [
    "ODE_model = lambda x, params: ST( x, params )"
   ]
  },
  {
   "cell_type": "code",
   "execution_count": null,
   "metadata": {},
   "outputs": [],
   "source": [
    "a_min,a_max = -1.0, 1.0\n",
    "b_min, b_max = -1.0, 1.0\n",
    "c_min, c_max = -1.0, 1.0\n",
    "base_bounds = [[a_min,a_max],[b_min,b_max],[c_min,c_max]]\n",
    "base_boxes = [10,10,10]\n",
    "base = GeometricCubicalComplex(base_bounds, base_boxes)\n",
    "B= base.complex\n",
    "a_vert = [a_min+i*base.delta[0] for i in range(base_boxes[0]+1)]\n",
    "b_vert = [b_min+i*base.delta[1] for i in range(base_boxes[1]+1)]\n",
    "c_vert = [c_min+i*base.delta[2] for i in range(base_boxes[2]+1)]"
   ]
  },
  {
   "cell_type": "code",
   "execution_count": null,
   "metadata": {},
   "outputs": [],
   "source": [
    "bounds = [[-1.25,1.25]]\n",
    "boxes = [10]\n",
    "phase_specs = [bounds,boxes] \n",
    "num_samples = 1"
   ]
  },
  {
   "cell_type": "code",
   "execution_count": null,
   "metadata": {},
   "outputs": [],
   "source": [
    "%%time\n",
    "flow_sheaf = SheafFromVertices(TransversalitySheaf(base, ODE_model, phase_specs, num_samples))"
   ]
  },
  {
   "cell_type": "code",
   "execution_count": null,
   "metadata": {},
   "outputs": [],
   "source": [
    "%%time\n",
    "graded_sheaf = GradeFlowSheaf(flow_sheaf)"
   ]
  },
  {
   "cell_type": "code",
   "execution_count": null,
   "metadata": {},
   "outputs": [],
   "source": [
    "%%time\n",
    "conley_sheaf = ConleySheaf(graded_sheaf)"
   ]
  },
  {
   "cell_type": "code",
   "execution_count": null,
   "metadata": {},
   "outputs": [],
   "source": [
    "conley_sheaf"
   ]
  },
  {
   "cell_type": "code",
   "execution_count": null,
   "metadata": {},
   "outputs": [],
   "source": [
    "face_poset = base.face_poset"
   ]
  },
  {
   "cell_type": "code",
   "execution_count": null,
   "metadata": {},
   "outputs": [],
   "source": [
    "#face_poset"
   ]
  },
  {
   "cell_type": "code",
   "execution_count": null,
   "metadata": {},
   "outputs": [],
   "source": [
    "#DrawGradedComplex(GradedComplex(B,lambda x : x), Poset(face_poset))"
   ]
  },
  {
   "cell_type": "code",
   "execution_count": null,
   "metadata": {},
   "outputs": [],
   "source": [
    "#Clustering Algorithm\n",
    "#Pseudo-Code:\n",
    "#for each edge in FP.edges\n",
    "#  if mapping[edge] is iso:\n",
    "#     add inverse edge\n",
    "#strongly connected components\n",
    "# localize = face_poset\n",
    "# for (u,v) in face_poset.edges():\n",
    "#     conley_map = conley_sheaf.mapping[(u,v)]\n",
    "#     if conley_map.poset_iso(conley_sheaf.mapping[v],conley_sheaf.mapping[u]):\n",
    "#         localize.add_edge(v,u)"
   ]
  },
  {
   "cell_type": "code",
   "execution_count": null,
   "metadata": {},
   "outputs": [],
   "source": [
    "def InducedPoset( G, predicate ):\n",
    "    result = DirectedAcyclicGraph()\n",
    "    S = set([v for v in G.vertices() if predicate(v)])\n",
    "    for v in S:\n",
    "        result.add_vertex(v)\n",
    "    for v in S:\n",
    "        for u in G.children(v):\n",
    "            if u in S and u != v:\n",
    "                result.add_edge(v,u)\n",
    "    return Poset(result)\n",
    "def subposet_iso(poset_map, A, B):\n",
    "    #A,B the subposets\n",
    "    img = [poset_map(v) for v in A.vertices()]\n",
    "    img_set = set(img)\n",
    "    if not len(img)==len(img_set):\n",
    "        return False\n",
    "    if not img_set==B.vertices():\n",
    "        return False\n",
    "    return True"
   ]
  },
  {
   "cell_type": "code",
   "execution_count": null,
   "metadata": {},
   "outputs": [],
   "source": [
    "#Clustering algorithm, with flag for changing localization criterion\n",
    "reducedFlag = True\n",
    "localize = face_poset\n",
    "for (u,v) in face_poset.edges():\n",
    "    if B.rightfringe(u) or B.rightfringe(v): continue\n",
    "    conley_map = conley_sheaf.mapping[(u,v)]\n",
    "    gc_u = conley_sheaf.mapping[u]\n",
    "    gc_v = conley_sheaf.mapping[v]\n",
    "    rc_u = InducedPoset(gc_u.poset, lambda v : v in gc_u.graded_complex.count() )\n",
    "    rc_v = InducedPoset(gc_v.poset, lambda v : v in gc_v.graded_complex.count() )\n",
    "    if reducedFlag:\n",
    "        if subposet_iso(conley_map.poset_map, rc_v, rc_u):\n",
    "            #print(v,u)\n",
    "            localize.add_edge(v,u)\n",
    "    else:\n",
    "        if conley_map.poset_iso(conley_sheaf.mapping[v],conley_sheaf.mapping[u]):\n",
    "            #print(v,u)\n",
    "            localize.add_edge(v,u)"
   ]
  },
  {
   "cell_type": "code",
   "execution_count": null,
   "metadata": {},
   "outputs": [],
   "source": [
    "#localize"
   ]
  },
  {
   "cell_type": "code",
   "execution_count": null,
   "metadata": {},
   "outputs": [],
   "source": []
  },
  {
   "cell_type": "code",
   "execution_count": null,
   "metadata": {},
   "outputs": [],
   "source": [
    "scc,mapping = CondensationGraph(face_poset.vertices(),lambda x : face_poset.adjacencies(x))"
   ]
  },
  {
   "cell_type": "code",
   "execution_count": null,
   "metadata": {},
   "outputs": [],
   "source": [
    "scc"
   ]
  },
  {
   "cell_type": "code",
   "execution_count": null,
   "metadata": {},
   "outputs": [],
   "source": [
    "#mapping"
   ]
  },
  {
   "cell_type": "code",
   "execution_count": null,
   "metadata": {},
   "outputs": [],
   "source": [
    "graded_base = GradedComplex(base.complex, lambda x : mapping[x])"
   ]
  },
  {
   "cell_type": "code",
   "execution_count": null,
   "metadata": {},
   "outputs": [],
   "source": [
    "# def poset_iso(gc_A,gc_B,gcMap):\n",
    "#     poset_map = gcMap.poset_map\n",
    "#     img = [poset_map(v) for v in gc_A.poset.vertices()]\n",
    "#     img_set = set(img)\n",
    "#     #Check injective\n",
    "#     if not len(img)==len(img_set):\n",
    "#         return False\n",
    "#     #Check surjective\n",
    "#     if not img_set==gc_B.poset.vertices():\n",
    "#         return False\n",
    "#     return True"
   ]
  },
  {
   "cell_type": "code",
   "execution_count": null,
   "metadata": {},
   "outputs": [],
   "source": [
    "DrawGradedComplex(graded_base,Poset(scc))"
   ]
  },
  {
   "cell_type": "code",
   "execution_count": null,
   "metadata": {},
   "outputs": [],
   "source": [
    "reduced_base = ConnectionMatrix(graded_base)"
   ]
  },
  {
   "cell_type": "code",
   "execution_count": null,
   "metadata": {},
   "outputs": [],
   "source": [
    "DrawGradedComplex(reduced_base,Poset(scc))"
   ]
  },
  {
   "cell_type": "code",
   "execution_count": null,
   "metadata": {},
   "outputs": [],
   "source": [
    "for base_cube in B:\n",
    "    print(base_cube,B.cell_dim(base_cube),base.geometry(base_cube))"
   ]
  },
  {
   "cell_type": "code",
   "execution_count": null,
   "metadata": {},
   "outputs": [],
   "source": [
    "mapping"
   ]
  },
  {
   "cell_type": "code",
   "execution_count": null,
   "metadata": {},
   "outputs": [],
   "source": [
    "inv_mapping = {}\n",
    "for target in set(mapping.values()):\n",
    "    inv_mapping[target] = []\n",
    "    for key in mapping.keys():\n",
    "        if mapping[key]==target:\n",
    "            inv_mapping[target] += [key]"
   ]
  },
  {
   "cell_type": "code",
   "execution_count": null,
   "metadata": {},
   "outputs": [],
   "source": [
    "inv_mapping"
   ]
  },
  {
   "cell_type": "code",
   "execution_count": null,
   "metadata": {},
   "outputs": [],
   "source": [
    "for v in inv_mapping.keys():\n",
    "    print(\"Component: \" + str(v))\n",
    "    for base_cube in inv_mapping[v]:\n",
    "        print(base_cube,B.cell_dim(base_cube),base.geometry(base_cube))"
   ]
  },
  {
   "cell_type": "code",
   "execution_count": null,
   "metadata": {},
   "outputs": [],
   "source": [
    "# fig, ax = plt.subplots()\n",
    "# plt.title('Parameter Space')\n",
    "\n",
    "# plt.xlabel('a')\n",
    "# plt.ylabel('b')\n",
    "# plt.grid(True)\n",
    "# plt.xticks(a_vert)\n",
    "# plt.yticks(b_vert)\n",
    "# #plt.grid()\n",
    "# plt.xlim(a_min, a_max)\n",
    "# plt.ylim(b_min, b_max)\n",
    "# plt.show()"
   ]
  },
  {
   "cell_type": "code",
   "execution_count": null,
   "metadata": {},
   "outputs": [],
   "source": [
    "data = np.zeros((base_boxes[1],base_boxes[0]))\n",
    "data.shape"
   ]
  },
  {
   "cell_type": "code",
   "execution_count": null,
   "metadata": {},
   "outputs": [],
   "source": [
    "slice_level = 2\n",
    "for top_cell in B(B.dimension()):\n",
    "    if B.rightfringe(top_cell): continue\n",
    "    a,b,c = B.coordinates(top_cell)\n",
    "    if c==slice_level:\n",
    "        data[b,a] = mapping[top_cell]"
   ]
  },
  {
   "cell_type": "code",
   "execution_count": null,
   "metadata": {},
   "outputs": [],
   "source": [
    "#data"
   ]
  },
  {
   "cell_type": "code",
   "execution_count": null,
   "metadata": {},
   "outputs": [],
   "source": [
    "xmin,xmax = base.bounds[0]\n",
    "ymin,ymax = base.bounds[1]\n",
    "plt.imshow(data,extent=[xmin,xmax,ymin,ymax],origin='lower')\n",
    "plt.colorbar()\n",
    "#x = np.linspace(xmin, xmax, 100)\n",
    "#y = np.linspace(ymin, ymax, 100)\n",
    "#X, Y = np.meshgrid(x,y)\n",
    "#F = 4*X**3-27*Y**2\n",
    "#plt.contour(X,Y,F,[0],colors=('b'))"
   ]
  },
  {
   "cell_type": "code",
   "execution_count": null,
   "metadata": {},
   "outputs": [],
   "source": []
  },
  {
   "cell_type": "code",
   "execution_count": null,
   "metadata": {},
   "outputs": [],
   "source": [
    "xmin,xmax = base.bounds[0]\n",
    "ymin,ymax = base.bounds[1]\n",
    "zmin,zmax = base.bounds[2]"
   ]
  },
  {
   "cell_type": "code",
   "execution_count": null,
   "metadata": {},
   "outputs": [],
   "source": [
    "x = np.linspace(xmin, xmax, 100)\n",
    "y = np.linspace(ymin, ymax, 100)\n",
    "X, Y = np.meshgrid(x,y)\n",
    "F = 4*X**3-27*Y**2"
   ]
  },
  {
   "cell_type": "code",
   "execution_count": null,
   "metadata": {},
   "outputs": [],
   "source": [
    "type(F)"
   ]
  },
  {
   "cell_type": "code",
   "execution_count": null,
   "metadata": {},
   "outputs": [],
   "source": [
    "# for top_cell in B(B.dimension()):\n",
    "#     print(B.coordinates(top_cell))"
   ]
  },
  {
   "cell_type": "code",
   "execution_count": null,
   "metadata": {},
   "outputs": [],
   "source": [
    "x = np.linspace(xmin, xmax, base.boxes[0])\n",
    "y = np.linspace(ymin, ymax, base.boxes[1])\n",
    "X, Y = np.meshgrid(x, y)\n",
    "\n",
    "Z1 = np.zeros([base.boxes[0],base.boxes[1]])\n",
    "Z3 = np.zeros([base.boxes[0],base.boxes[1]])\n",
    "Z7 = np.zeros([base.boxes[0],base.boxes[1]])\n",
    "\n",
    "for top_cell in B(B.dimension()):\n",
    "    if B.rightfringe(top_cell): continue\n",
    "    a,b,c = B.coordinates(top_cell)\n",
    "    if c==1:\n",
    "        Z1[b,a] = mapping[top_cell]\n",
    "    if c==3:\n",
    "        Z3[b,a] = mapping[top_cell]+3\n",
    "    if c==7:\n",
    "        Z7[b,a] = mapping[top_cell]+7"
   ]
  },
  {
   "cell_type": "code",
   "execution_count": null,
   "metadata": {},
   "outputs": [],
   "source": [
    "Z1"
   ]
  },
  {
   "cell_type": "code",
   "execution_count": null,
   "metadata": {},
   "outputs": [],
   "source": [
    "levels = np.linspace(-1, 1, 40)\n",
    "plt.contour(X,Y,.1*np.sin(3*X)*np.sin(5*Y),levels = .1*levels)"
   ]
  },
  {
   "cell_type": "code",
   "execution_count": null,
   "metadata": {},
   "outputs": [],
   "source": [
    "fig = plt.figure()\n",
    "ax = fig.gca(projection='3d')\n",
    "\n",
    "\n",
    "\n",
    "\n",
    "#Z = np.sin(X)*np.sin(Y)\n",
    "\n",
    "levels = np.linspace(-1, 1, 40)\n",
    "\n",
    "ax.contourf(X, Y, Z1, zdir='z', levels=.1*levels)\n",
    "#ax.contourf(X, Y, Z2, zdir='z', levels=3+.1*levels)\n",
    "#ax.contourf(X, Y, Z3, zdir='z', levels=7+.1*levels)\n",
    "\n",
    "#ax.legend()\n",
    "ax.set_xlim3d(xmin, xmax)\n",
    "ax.set_ylim3d(ymin, ymax)\n",
    "ax.set_zlim3d(zmin, zmax)\n",
    "\n",
    "#plt.show()"
   ]
  },
  {
   "cell_type": "code",
   "execution_count": null,
   "metadata": {},
   "outputs": [],
   "source": [
    "fig = plt.figure()\n",
    "ax = fig.gca(projection='3d')\n",
    "\n",
    "x = np.linspace(0, 1, 100)\n",
    "X, Y = np.meshgrid(x, x)\n",
    "#Z = np.sin(X)*np.sin(Y)\n",
    "\n",
    "levels = np.linspace(-1, 1, 40)\n",
    "\n",
    "ax.contourf(X, Y, .1*np.sin(3*X)*np.sin(5*Y), zdir='z', levels=.1*levels)\n",
    "#ax.contourf(X, Y, 3+.1*np.sin(5*X)*np.sin(8*Y), zdir='z', levels=3+.1*levels)\n",
    "#ax.contourf(X, Y, 7+.1*np.sin(7*X)*np.sin(3*Y), zdir='z', levels=7+.1*levels)\n",
    "\n",
    "#ax.legend()\n",
    "ax.set_xlim3d(0, 1)\n",
    "ax.set_ylim3d(0, 1)\n",
    "ax.set_zlim3d(0, 10)"
   ]
  },
  {
   "cell_type": "code",
   "execution_count": null,
   "metadata": {},
   "outputs": [],
   "source": [
    ".1*levels"
   ]
  },
  {
   "cell_type": "code",
   "execution_count": null,
   "metadata": {},
   "outputs": [],
   "source": []
  }
 ],
 "metadata": {
  "kernelspec": {
   "display_name": "Python 3",
   "language": "python",
   "name": "python3"
  },
  "language_info": {
   "codemirror_mode": {
    "name": "ipython",
    "version": 3
   },
   "file_extension": ".py",
   "mimetype": "text/x-python",
   "name": "python",
   "nbconvert_exporter": "python",
   "pygments_lexer": "ipython3",
   "version": "3.7.3"
  }
 },
 "nbformat": 4,
 "nbformat_minor": 2
}
