{
 "cells": [
  {
   "cell_type": "code",
   "execution_count": null,
   "metadata": {},
   "outputs": [],
   "source": [
    "from pychomp import *\n",
    "import numpy as np\n",
    "from scipy import integrate\n",
    "import matplotlib.pyplot as plt"
   ]
  },
  {
   "cell_type": "code",
   "execution_count": null,
   "metadata": {},
   "outputs": [],
   "source": [
    "def hopf ( X, a):\n",
    "    sigma = -1.\n",
    "    a, = params\n",
    "    #a,sigma = params\n",
    "    return [a*X[0]-X[1]+sigma*X[0]*(X[0]**2+X[1]**2), \n",
    "            X[0]+a*X[1]+sigma*X[1]*(X[0]**2+X[1]**2)]"
   ]
  },
  {
   "cell_type": "code",
   "execution_count": null,
   "metadata": {},
   "outputs": [],
   "source": [
    "ODE_model = lambda x, params: hopf( x, params )\n",
    "xmax,ymax=1.5,1.5\n",
    "xmin,ymin = -1.5,-1.5\n",
    "bounds = [[xmin,xmax],[ymin,ymax]]\n",
    "boxes = [10,10]\n",
    "num_samples = 3\n",
    "params = [1.0]"
   ]
  },
  {
   "cell_type": "code",
   "execution_count": null,
   "metadata": {},
   "outputs": [],
   "source": [
    "phase_complex = GeometricCubicalComplex(bounds,boxes)\n",
    "phase_complex.delta"
   ]
  },
  {
   "cell_type": "code",
   "execution_count": null,
   "metadata": {},
   "outputs": [],
   "source": [
    "X = phase_complex.complex"
   ]
  },
  {
   "cell_type": "code",
   "execution_count": null,
   "metadata": {},
   "outputs": [],
   "source": [
    "x_vert = [xmin+i*phase_complex.delta[0] for i in range(boxes[0]+1)]\n",
    "y_vert = [ymin+i*phase_complex.delta[1] for i in range(boxes[1]+1)]\n",
    "#vertices"
   ]
  },
  {
   "cell_type": "code",
   "execution_count": null,
   "metadata": {},
   "outputs": [],
   "source": [
    "C, discrete_flow = TransversalityComplex(phase_complex, ODE_model,params,num_samples)\n",
    "FC = FlowComplex(C, discrete_flow)"
   ]
  },
  {
   "cell_type": "code",
   "execution_count": null,
   "metadata": {},
   "outputs": [],
   "source": [
    "# initial condition\n",
    "x = [.5,.5]\n",
    "\n",
    "# time points\n",
    "t = np.linspace(0,20)\n",
    "\n",
    "# solve ODE\n",
    "y = integrate.odeint(ODE_model,x,t)\n",
    "\n",
    "# plot results\n",
    "plt.plot(t,y)\n",
    "plt.xlabel('time')\n",
    "plt.ylabel('y(t)')\n",
    "plt.show()"
   ]
  },
  {
   "cell_type": "code",
   "execution_count": null,
   "metadata": {},
   "outputs": [],
   "source": [
    "\"\"\"\"\n",
    "I need to define the possible values my initial points will take as they\n",
    "relate to the equilibrium point. In this case I chose to plot 10 trajectories\n",
    "ranging from 0.1 to 5\n",
    "\"\"\"\n",
    "#values = np.linspace(-1.25, 1.25, 10)\n",
    "# I want each trajectory to have a different color\n",
    "#vcolors = plt.cm.autumn_r(np.linspace(0.1, 1, len(values)))\n",
    " \n",
    "# Open figure\n",
    "f = plt.figure()\n",
    "\"\"\"\n",
    "I need to define a range of time over which to integrate the system of ODEs\n",
    "The values don't really matter in this case because our system doesn't have t\n",
    "on the right hand side of dx/dt and dy/dt, but it is a necessary input for\n",
    "integrate.odeint.\n",
    "\"\"\"\n",
    "\n",
    "# Get limits of trajectory plot\n",
    "#xmax,ymax = 1.25,1.25\n",
    "#ymax = plt.ylim(ymin=0)[1]\n",
    "#xmax = plt.xlim(xmin=0)[1]\n",
    "# Define number of points\n",
    "nb_points = 20\n",
    "# Define x and y ranges\n",
    "x = np.linspace(xmin, xmax, nb_points)\n",
    "y = np.linspace(ymin, ymax, nb_points)\n",
    "# Create meshgrid\n",
    "X1 , Y1 = np.meshgrid(x,y)\n",
    "# Calculate growth rate at each grid point\n",
    "DX1, DY1 = hopf([X1, Y1],params)\n",
    "# Direction at each grid point is the hypotenuse of the prey direction and the\n",
    "# predator direction.\n",
    "M = (np.hypot(DX1, DY1))\n",
    "# This is to avoid any divisions when normalizing\n",
    "M[ M == 0] = 1.\n",
    "# Normalize the length of each arrow (optional)\n",
    "DX1 /= M\n",
    "DY1 /= M\n",
    " \n",
    "plt.title('Trajectories and direction fields')\n",
    "\"\"\"\n",
    "This is using the quiver function to plot the field of arrows using DX1 and\n",
    "DY1 for direction and M for speed\n",
    "\"\"\"\n",
    "Q = plt.quiver(X1, Y1, DX1, DY1, M, pivot='mid', cmap=plt.cm.plasma)\n",
    "plt.xlabel('Prey abundance')\n",
    "plt.ylabel('Predator abundance')\n",
    "#plt.legend(bbox_to_anchor=(1.05, 1.0))\n",
    "plt.grid(True)\n",
    "plt.xticks(x_vert)\n",
    "plt.yticks(y_vert)\n",
    "#plt.grid()\n",
    "plt.xlim(xmin, xmax)\n",
    "plt.ylim(ymin, ymax)\n",
    "plt.show()"
   ]
  },
  {
   "cell_type": "code",
   "execution_count": null,
   "metadata": {},
   "outputs": [],
   "source": []
  },
  {
   "cell_type": "code",
   "execution_count": null,
   "metadata": {},
   "outputs": [],
   "source": [
    "x_pos = []\n",
    "y_pos = []\n",
    "x_dir = []\n",
    "y_dir = []\n",
    "for u in discrete_flow.keys():\n",
    "    if X.rightfringe(u): continue\n",
    "    u_barys = [(bounds[1]+bounds[0])/2 for bounds in phase_complex.geometry(u)]\n",
    "    #print(u,u_barys)\n",
    "    for v in discrete_flow[u]:\n",
    "        if X.rightfringe(v): continue\n",
    "        v_barys = [(bounds[1]+bounds[0])/2 for bounds in phase_complex.geometry(v)]\n",
    "        x_pos . append (u_barys[0])\n",
    "        y_pos . append (u_barys[1])\n",
    "        x_dir . append (v_barys[0]-u_barys[0])\n",
    "        y_dir . append (v_barys[1]-u_barys[1])\n",
    "        #print(v_barys)\n",
    "    #print(\"----\")"
   ]
  },
  {
   "cell_type": "code",
   "execution_count": null,
   "metadata": {},
   "outputs": [],
   "source": [
    "plt.title('Directed Graph')\n",
    "\"\"\"\n",
    "This is using the quiver function to plot the field of arrows using DX1 and\n",
    "DY1 for direction and M for speed\n",
    "\"\"\"\n",
    "Q = plt.quiver(x_pos, y_pos, x_dir, y_dir,scale=7)\n",
    "plt.xlabel('X')\n",
    "plt.ylabel('Y')\n",
    "plt.grid(True)\n",
    "plt.xticks(x_vert)\n",
    "plt.yticks(y_vert)\n",
    "#plt.grid()\n",
    "plt.xlim(xmin, xmax)\n",
    "plt.ylim(ymin, ymax)\n",
    "plt.show()"
   ]
  },
  {
   "cell_type": "code",
   "execution_count": null,
   "metadata": {},
   "outputs": [],
   "source": []
  },
  {
   "cell_type": "code",
   "execution_count": null,
   "metadata": {},
   "outputs": [],
   "source": [
    "GC = GradedComplexObj.induce_from_flow(FC.complex, lambda x: FC.discrete_flow[x])"
   ]
  },
  {
   "cell_type": "code",
   "execution_count": null,
   "metadata": {},
   "outputs": [],
   "source": [
    "DrawGradedComplex(GC.graded_complex,GC.poset)"
   ]
  },
  {
   "cell_type": "code",
   "execution_count": null,
   "metadata": {},
   "outputs": [],
   "source": [
    "conley_complex = ConnectionMatrix(GC.graded_complex)\n",
    "poset = GC.poset"
   ]
  },
  {
   "cell_type": "code",
   "execution_count": null,
   "metadata": {},
   "outputs": [],
   "source": [
    "DrawGradedComplex(conley_complex,poset)"
   ]
  },
  {
   "cell_type": "code",
   "execution_count": null,
   "metadata": {},
   "outputs": [],
   "source": [
    "def InducedPoset( G, predicate ):\n",
    "    result = DirectedAcyclicGraph()\n",
    "    S = set([v for v in G.vertices() if predicate(v)])\n",
    "    for v in S:\n",
    "        result.add_vertex(v)\n",
    "    for v in S:\n",
    "        for u in G.children(v):\n",
    "            if u in S and u != v:\n",
    "                result.add_edge(v,u)\n",
    "    return Poset(result)#type(poset)\n",
    "\n",
    "CMG = InducedPoset(poset, lambda v : v in conley_complex.count())"
   ]
  },
  {
   "cell_type": "code",
   "execution_count": null,
   "metadata": {},
   "outputs": [],
   "source": [
    "#del conleyindices[fringenode]\n",
    "CMG = InducedPoset(poset, lambda v : v in conley_complex.count())"
   ]
  },
  {
   "cell_type": "code",
   "execution_count": null,
   "metadata": {},
   "outputs": [],
   "source": [
    "CMG.vertices()"
   ]
  },
  {
   "cell_type": "code",
   "execution_count": null,
   "metadata": {},
   "outputs": [],
   "source": [
    "type(CMG)"
   ]
  },
  {
   "cell_type": "code",
   "execution_count": null,
   "metadata": {},
   "outputs": [],
   "source": []
  }
 ],
 "metadata": {
  "kernelspec": {
   "display_name": "Python 3",
   "language": "python",
   "name": "python3"
  },
  "language_info": {
   "codemirror_mode": {
    "name": "ipython",
    "version": 3
   },
   "file_extension": ".py",
   "mimetype": "text/x-python",
   "name": "python",
   "nbconvert_exporter": "python",
   "pygments_lexer": "ipython3",
   "version": "3.7.3"
  }
 },
 "nbformat": 4,
 "nbformat_minor": 2
}
