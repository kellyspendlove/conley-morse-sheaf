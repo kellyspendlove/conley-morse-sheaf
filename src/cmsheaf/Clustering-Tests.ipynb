{
 "cells": [
  {
   "cell_type": "code",
   "execution_count": 1,
   "metadata": {},
   "outputs": [],
   "source": [
    "from TransversalitySheaf import *\n",
    "from ConleySheaf import *\n",
    "from FlowSheaf import *\n",
    "from pychomp import *\n",
    "\n",
    "\n",
    "import matplotlib.pyplot as plt\n",
    "from matplotlib import colors"
   ]
  },
  {
   "cell_type": "code",
   "execution_count": 2,
   "metadata": {},
   "outputs": [],
   "source": [
    "from Model import *"
   ]
  },
  {
   "cell_type": "code",
   "execution_count": 3,
   "metadata": {},
   "outputs": [],
   "source": [
    "#model_name = 'double_cusp'\n",
    "#model_name = 'cusp'\n",
    "#model_name = 'qtlearning'\n",
    "#model_name = 'replicator2D'\n",
    "model_name = 'replicator1D'\n",
    "model = Model(model_name)"
   ]
  },
  {
   "cell_type": "code",
   "execution_count": 4,
   "metadata": {},
   "outputs": [],
   "source": [
    "base = GeometricCubicalComplex(model.base_bounds,model.base_boxes)\n",
    "B = base.complex\n",
    "phase_specs = [model.phase_bounds,model.phase_boxes]"
   ]
  },
  {
   "cell_type": "code",
   "execution_count": 5,
   "metadata": {},
   "outputs": [],
   "source": [
    "[a_min,a_max],[b_min,b_max] = base.bounds\n",
    "a_vert = [a_min+i*base.delta[0] for i in range(base.boxes[0]+1)]\n",
    "b_vert = [b_min+i*base.delta[1] for i in range(base.boxes[1]+1)]"
   ]
  },
  {
   "cell_type": "code",
   "execution_count": 6,
   "metadata": {},
   "outputs": [
    {
     "name": "stdout",
     "output_type": "stream",
     "text": [
      "CPU times: user 13.5 s, sys: 389 ms, total: 13.9 s\n",
      "Wall time: 13.8 s\n"
     ]
    }
   ],
   "source": [
    "%%time\n",
    "flow_sheaf = SheafFromVertices(TransversalitySheaf(base, model.ODE_Model, phase_specs, model.num_samples))"
   ]
  },
  {
   "cell_type": "code",
   "execution_count": 7,
   "metadata": {},
   "outputs": [
    {
     "name": "stdout",
     "output_type": "stream",
     "text": [
      "CPU times: user 52.3 s, sys: 1.25 s, total: 53.6 s\n",
      "Wall time: 53.9 s\n"
     ]
    }
   ],
   "source": [
    "%%time\n",
    "graded_sheaf = GradeFlowSheaf(flow_sheaf)"
   ]
  },
  {
   "cell_type": "code",
   "execution_count": 8,
   "metadata": {},
   "outputs": [
    {
     "name": "stdout",
     "output_type": "stream",
     "text": [
      "CPU times: user 1min 17s, sys: 1.7 s, total: 1min 19s\n",
      "Wall time: 1min 20s\n"
     ]
    }
   ],
   "source": [
    "%%time\n",
    "conley_sheaf = ConleySheaf(graded_sheaf)"
   ]
  },
  {
   "cell_type": "code",
   "execution_count": 9,
   "metadata": {},
   "outputs": [
    {
     "name": "stdout",
     "output_type": "stream",
     "text": [
      "CPU times: user 21.7 s, sys: 588 ms, total: 22.3 s\n",
      "Wall time: 22.4 s\n"
     ]
    }
   ],
   "source": [
    "%%time\n",
    "recurrent_sheaf = RecurrentSheaf(conley_sheaf)"
   ]
  },
  {
   "cell_type": "code",
   "execution_count": 10,
   "metadata": {},
   "outputs": [],
   "source": [
    "face_poset = base.face_poset"
   ]
  },
  {
   "cell_type": "code",
   "execution_count": 11,
   "metadata": {},
   "outputs": [],
   "source": [
    "#face_poset"
   ]
  },
  {
   "cell_type": "code",
   "execution_count": 12,
   "metadata": {},
   "outputs": [],
   "source": [
    "#DrawGradedComplex(GradedComplex(B,lambda x : x), Poset(face_poset))"
   ]
  },
  {
   "cell_type": "code",
   "execution_count": 13,
   "metadata": {},
   "outputs": [],
   "source": [
    "def InducedPoset( G, predicate ):\n",
    "    result = DirectedAcyclicGraph()\n",
    "    S = set([v for v in G.vertices() if predicate(v)])\n",
    "    for v in S:\n",
    "        result.add_vertex(v)\n",
    "    for v in S:\n",
    "        for u in G.children(v):\n",
    "            if u in S and u != v:\n",
    "                result.add_edge(v,u)\n",
    "    return Poset(result)\n",
    "def subposet_iso(poset_map, A, B):\n",
    "    #A,B the subposets\n",
    "    img = [poset_map(v) for v in A.vertices()]\n",
    "    img_set = set(img)\n",
    "    if not len(img)==len(img_set):\n",
    "        return False\n",
    "    if not img_set==B.vertices():\n",
    "        return False\n",
    "    return True"
   ]
  },
  {
   "cell_type": "code",
   "execution_count": 14,
   "metadata": {},
   "outputs": [],
   "source": [
    "# #Clustering algorithm, with flag for changing localization criterion\n",
    "# reducedFlag = True\n",
    "# localize = face_poset\n",
    "# for (u,v) in face_poset.edges():\n",
    "#     if B.rightfringe(u) or B.rightfringe(v): continue\n",
    "#     conley_map = conley_sheaf.mapping[(u,v)]\n",
    "#     gc_u = conley_sheaf.mapping[u]\n",
    "#     gc_v = conley_sheaf.mapping[v]\n",
    "#     #rc_u = InducedPoset(gc_u.poset, lambda v : v in gc_u.graded_complex.count() )\n",
    "#     #rc_v = InducedPoset(gc_v.poset, lambda v : v in gc_v.graded_complex.count() )\n",
    "#     if reducedFlag:\n",
    "#         if subposet_iso(conley_map.poset_map, rc_v, rc_u):\n",
    "#             #print(v,u)\n",
    "#             localize.add_edge(v,u)\n",
    "#     else:\n",
    "#         if conley_map.poset_iso(conley_sheaf.mapping[v],conley_sheaf.mapping[u]):\n",
    "#             #print(v,u)\n",
    "#             localize.add_edge(v,u)"
   ]
  },
  {
   "cell_type": "code",
   "execution_count": 15,
   "metadata": {},
   "outputs": [],
   "source": [
    "# #Clustering Algorithm 1\n",
    "# localize = face_poset\n",
    "# for (u,v) in face_poset.edges():\n",
    "#     if B.rightfringe(u) or B.rightfringe(v): continue\n",
    "#     conley_map = recurrent_sheaf.mapping[(u,v)]\n",
    "#     gc_u = recurrent_sheaf.mapping[u]\n",
    "#     gc_v = recurrent_sheaf.mapping[v]\n",
    "#     if conley_map.poset_iso(gc_v,gc_u):\n",
    "#         if gc_u.graded_complex.complex().size() != gc_v.graded_complex.complex().size():\n",
    "#             print(\"Sizes not equal!\")\n",
    "#         if len(gc_u.poset.vertices()) != len(gc_v.poset.vertices()):\n",
    "#             print(\"Sizes not equal!!\")\n",
    "#         #print(v,u)\n",
    "#         localize.add_edge(v,u)\n",
    "# #     if subposet_iso(conley_map.poset_map, gc_v.poset, gc_u.poset):\n",
    "# #         if gc_u.graded_complex.complex().size() != gc_v.graded_complex.complex().size():\n",
    "# #             print(\"Sizes not equal!\")\n",
    "# #         if len(gc_u.poset.vertices()) != len(gc_v.poset.vertices()):\n",
    "# #             print(\"Sizes not equal!!\")\n",
    "# #         #print(v,u)\n",
    "# #         localize.add_edge(v,u)"
   ]
  },
  {
   "cell_type": "code",
   "execution_count": 16,
   "metadata": {},
   "outputs": [],
   "source": [
    "#Clustering Algorithm 2\n",
    "localize = face_poset\n",
    "for (u,v) in face_poset.edges():\n",
    "    if B.rightfringe(u) and B.rightfringe(v): \n",
    "        localize.add_edge(v,u)\n",
    "    else:\n",
    "        if B.rightfringe(u) or B.rightfringe(v): continue\n",
    "        conley_map = recurrent_sheaf.mapping[(u,v)]\n",
    "        gc_u = recurrent_sheaf.mapping[u]\n",
    "        gc_v = recurrent_sheaf.mapping[v]\n",
    "        if len(gc_u.poset.vertices()) > len(gc_v.poset.vertices()):\n",
    "            print(\"WHAT?!\")\n",
    "            print( len(gc_u.poset.vertices()),len(gc_v.poset.vertices()) )\n",
    "            print(u,v)\n",
    "        if conley_map.poset_iso(gc_v,gc_u):\n",
    "            localize.add_edge(v,u)\n",
    "#         if len(gc_u.poset.vertices()) == len(gc_v.poset.vertices()):\n",
    "#             localize.add_edge(v,u)"
   ]
  },
  {
   "cell_type": "code",
   "execution_count": 17,
   "metadata": {},
   "outputs": [],
   "source": [
    "#u,v = 523,83"
   ]
  },
  {
   "cell_type": "code",
   "execution_count": 18,
   "metadata": {},
   "outputs": [],
   "source": [
    "#base.geometry(u),base.geometry(v)"
   ]
  },
  {
   "cell_type": "code",
   "execution_count": 19,
   "metadata": {},
   "outputs": [],
   "source": [
    "#base.complex.boundary({u})"
   ]
  },
  {
   "cell_type": "code",
   "execution_count": 20,
   "metadata": {},
   "outputs": [],
   "source": [
    "# gc_u = graded_sheaf.mapping[u]\n",
    "# gc_v = graded_sheaf.mapping[v]"
   ]
  },
  {
   "cell_type": "code",
   "execution_count": 21,
   "metadata": {},
   "outputs": [],
   "source": [
    "#DrawGradedComplex(gc_u.graded_complex,gc_u.poset)"
   ]
  },
  {
   "cell_type": "code",
   "execution_count": 22,
   "metadata": {},
   "outputs": [],
   "source": [
    "#DrawGradedComplex(gc_v.graded_complex,gc_v.poset)"
   ]
  },
  {
   "cell_type": "code",
   "execution_count": 23,
   "metadata": {},
   "outputs": [],
   "source": [
    "# fiber = set()\n",
    "# for cell in gc_v.graded_complex.complex():\n",
    "#     if gc_v.graded_complex.value(cell) == 19:\n",
    "#         fiber.add(cell)\n",
    "# fiber"
   ]
  },
  {
   "cell_type": "code",
   "execution_count": 24,
   "metadata": {},
   "outputs": [],
   "source": [
    "# X = gc_v.graded_complex.complex()\n",
    "# for cell in fiber:\n",
    "#     print(cell,X.cell_dim(cell),X.boundary({cell}),X.barycenter(cell))"
   ]
  },
  {
   "cell_type": "code",
   "execution_count": 25,
   "metadata": {},
   "outputs": [],
   "source": [
    "#gc_v.graded_complex.value(15)"
   ]
  },
  {
   "cell_type": "code",
   "execution_count": 26,
   "metadata": {},
   "outputs": [],
   "source": [
    "#discrete_flow = flow_sheaf.mapping[v].discrete_flow"
   ]
  },
  {
   "cell_type": "code",
   "execution_count": 27,
   "metadata": {},
   "outputs": [],
   "source": [
    "#top_cell = 407\n",
    "#X.right(X.right(top_cell,0),0),X.right(X.right(top_cell,1),1)"
   ]
  },
  {
   "cell_type": "code",
   "execution_count": 28,
   "metadata": {},
   "outputs": [],
   "source": [
    "#X.left(X.left(top_cell,0),0),X.left(X.left(top_cell,1),1)"
   ]
  },
  {
   "cell_type": "code",
   "execution_count": 29,
   "metadata": {},
   "outputs": [],
   "source": [
    "#X.rightfringe(477)"
   ]
  },
  {
   "cell_type": "code",
   "execution_count": 30,
   "metadata": {},
   "outputs": [],
   "source": [
    "# neighbors = [406,418,396,408]\n",
    "# for n in neighbors:\n",
    "#     print(n,discrete_flow[n])"
   ]
  },
  {
   "cell_type": "code",
   "execution_count": 31,
   "metadata": {},
   "outputs": [],
   "source": [
    "# wall = 165\n",
    "# X.coboundary({wall})"
   ]
  },
  {
   "cell_type": "code",
   "execution_count": 32,
   "metadata": {},
   "outputs": [],
   "source": [
    "# new_edges = [(396,407)]\n",
    "# s,t = new_edges[0]\n",
    "# shape = X.cell_shape(wall)\n",
    "# for i in range(X.dimension()):\n",
    "#     if shape & (1 << i):\n",
    "#         print(i)\n",
    "#         s_right_nhbr = X.right(X.right(s,i),i)\n",
    "#         t_right_nhbr = X.right(X.right(t,i),i)\n",
    "#         s_left_nhbr =  X.left(X.left(s,i),i)\n",
    "#         t_left_nhbr =  X.left(X.left(t,i),i)\n",
    "#         print(\"S, right: \"+str(s_right_nhbr)+\" s, left: \" + str(s_left_nhbr))\n",
    "#         print(\"T, right: \" + str(t_right_nhbr)+\" t, left: \" + str(t_left_nhbr))\n",
    "#         print(str(s_right_nhbr) + \" -> \" + str(t_right_nhbr))\n",
    "#         print(str(s_left_nhbr) + \" -> \" + str(t_left_nhbr))\n",
    "# #         print(s_left_nhbr,s_right_nhbr)\n",
    "# #         print(t_left_nhbr,t_right_nhbr)\n",
    "# #             edges[s_right_nhbr].add(t_right_nhbr)\n",
    "# #             edges[s_left_nhbr].add(t_left_nhbr)"
   ]
  },
  {
   "cell_type": "code",
   "execution_count": 33,
   "metadata": {},
   "outputs": [],
   "source": [
    "#discrete_flow[397]"
   ]
  },
  {
   "cell_type": "code",
   "execution_count": 34,
   "metadata": {},
   "outputs": [],
   "source": [
    "# if len(new_edges) == 1:\n",
    "#     (s,t) = new_edges[0]\n",
    "#     shape = C.cell_shape(wall)\n",
    "# for d in range(C.dimension()):\n",
    "#     if shape & (i << i):\n",
    "#         s_right_nhbr = C.right(C.right(s,i),i)\n",
    "#         t_right_nhbr = C.right(C.right(s,i),i)\n",
    "#         s_left_nhbr =  C.left(C.left(s,i),i)\n",
    "#         t_left_nhbr =  C.left(C.left(t,i),i)\n",
    "#         edges[s_right_nhbr].add(t_right_nhbr)\n",
    "#         edges[s_left_nhbr].add(s_left_nhbr)"
   ]
  },
  {
   "cell_type": "code",
   "execution_count": null,
   "metadata": {},
   "outputs": [],
   "source": []
  },
  {
   "cell_type": "code",
   "execution_count": 35,
   "metadata": {},
   "outputs": [],
   "source": [
    "scc,mapping = CondensationGraph(localize.vertices(), lambda x : localize.adjacencies(x))"
   ]
  },
  {
   "cell_type": "code",
   "execution_count": 36,
   "metadata": {},
   "outputs": [],
   "source": [
    "#scc"
   ]
  },
  {
   "cell_type": "code",
   "execution_count": 37,
   "metadata": {},
   "outputs": [],
   "source": [
    "#mapping"
   ]
  },
  {
   "cell_type": "code",
   "execution_count": 38,
   "metadata": {},
   "outputs": [],
   "source": [
    "graded_base = GradedComplex(base.complex, lambda x : mapping[x])"
   ]
  },
  {
   "cell_type": "code",
   "execution_count": 39,
   "metadata": {},
   "outputs": [],
   "source": [
    "# def poset_iso(gc_A,gc_B,gcMap):\n",
    "#     poset_map = gcMap.poset_map\n",
    "#     img = [poset_map(v) for v in gc_A.poset.vertices()]\n",
    "#     img_set = set(img)\n",
    "#     #Check injective\n",
    "#     if not len(img)==len(img_set):\n",
    "#         return False\n",
    "#     #Check surjective\n",
    "#     if not img_set==gc_B.poset.vertices():\n",
    "#         return False\n",
    "#     return True"
   ]
  },
  {
   "cell_type": "code",
   "execution_count": 40,
   "metadata": {},
   "outputs": [
    {
     "data": {
      "image/svg+xml": [
       "<?xml version=\"1.0\" encoding=\"UTF-8\" standalone=\"no\"?>\n",
       "<!DOCTYPE svg PUBLIC \"-//W3C//DTD SVG 1.1//EN\"\n",
       " \"http://www.w3.org/Graphics/SVG/1.1/DTD/svg11.dtd\">\n",
       "<!-- Generated by graphviz version 2.43.0 (0)\n",
       " -->\n",
       "<!-- Title: %3 Pages: 1 -->\n",
       "<svg width=\"213pt\" height=\"188pt\"\n",
       " viewBox=\"0.00 0.00 212.93 188.00\" xmlns=\"http://www.w3.org/2000/svg\" xmlns:xlink=\"http://www.w3.org/1999/xlink\">\n",
       "<g id=\"graph0\" class=\"graph\" transform=\"scale(1 1) rotate(0) translate(4 184)\">\n",
       "<title>%3</title>\n",
       "<polygon fill=\"white\" stroke=\"transparent\" points=\"-4,4 -4,-184 208.93,-184 208.93,4 -4,4\"/>\n",
       "<!-- 0 -->\n",
       "<g id=\"node1\" class=\"node\">\n",
       "<title>0</title>\n",
       "<ellipse fill=\"cyan\" stroke=\"black\" cx=\"102.47\" cy=\"-18\" rx=\"93.75\" ry=\"18\"/>\n",
       "<text text-anchor=\"middle\" x=\"102.47\" y=\"-13.8\" font-family=\"Times,serif\" font-size=\"14.00\">0 : (8975, 17750, 8776)</text>\n",
       "</g>\n",
       "<!-- 1 -->\n",
       "<g id=\"node2\" class=\"node\">\n",
       "<title>1</title>\n",
       "<ellipse fill=\"cyan\" stroke=\"black\" cx=\"102.47\" cy=\"-90\" rx=\"102.43\" ry=\"18\"/>\n",
       "<text text-anchor=\"middle\" x=\"102.47\" y=\"-85.8\" font-family=\"Times,serif\" font-size=\"14.00\">1 : (31426, 62650, 31224)</text>\n",
       "</g>\n",
       "<!-- 1&#45;&gt;0 -->\n",
       "<g id=\"edge1\" class=\"edge\">\n",
       "<title>1&#45;&gt;0</title>\n",
       "<path fill=\"none\" stroke=\"black\" d=\"M102.47,-71.7C102.47,-63.98 102.47,-54.71 102.47,-46.11\"/>\n",
       "<polygon fill=\"black\" stroke=\"black\" points=\"105.97,-46.1 102.47,-36.1 98.97,-46.1 105.97,-46.1\"/>\n",
       "</g>\n",
       "<!-- 2 -->\n",
       "<g id=\"node3\" class=\"node\">\n",
       "<title>2</title>\n",
       "<ellipse fill=\"cyan\" stroke=\"black\" cx=\"102.47\" cy=\"-162\" rx=\"67.19\" ry=\"18\"/>\n",
       "<text text-anchor=\"middle\" x=\"102.47\" y=\"-157.8\" font-family=\"Times,serif\" font-size=\"14.00\">2 : (0, 402, 401)</text>\n",
       "</g>\n",
       "<!-- 2&#45;&gt;1 -->\n",
       "<g id=\"edge2\" class=\"edge\">\n",
       "<title>2&#45;&gt;1</title>\n",
       "<path fill=\"none\" stroke=\"black\" d=\"M102.47,-143.7C102.47,-135.98 102.47,-126.71 102.47,-118.11\"/>\n",
       "<polygon fill=\"black\" stroke=\"black\" points=\"105.97,-118.1 102.47,-108.1 98.97,-118.1 105.97,-118.1\"/>\n",
       "</g>\n",
       "</g>\n",
       "</svg>\n"
      ],
      "text/plain": [
       "<pychomp.DrawGradedComplex.DrawGradedComplex at 0x2265f34a8>"
      ]
     },
     "execution_count": 40,
     "metadata": {},
     "output_type": "execute_result"
    }
   ],
   "source": [
    "DrawGradedComplex(graded_base,Poset(scc))"
   ]
  },
  {
   "cell_type": "code",
   "execution_count": 41,
   "metadata": {},
   "outputs": [],
   "source": [
    "# fibers = set()\n",
    "# for cell in graded_base.complex():\n",
    "#     if graded_base.value(cell) == 0 or graded_base.value(cell) == 1:\n",
    "#         fibers.add(cell)\n",
    "# fibers"
   ]
  },
  {
   "cell_type": "code",
   "execution_count": 42,
   "metadata": {},
   "outputs": [],
   "source": [
    "for cell in graded_base.complex():\n",
    "    if graded_base.value(cell) == 1:\n",
    "        if recurrent_sheaf.mapping[cell].graded_complex.complex().size() != 1:\n",
    "            print(\"Not 1!\")"
   ]
  },
  {
   "cell_type": "code",
   "execution_count": 43,
   "metadata": {},
   "outputs": [],
   "source": [
    "reduced_base = ConnectionMatrix(graded_base)"
   ]
  },
  {
   "cell_type": "code",
   "execution_count": 44,
   "metadata": {},
   "outputs": [
    {
     "data": {
      "image/svg+xml": [
       "<?xml version=\"1.0\" encoding=\"UTF-8\" standalone=\"no\"?>\n",
       "<!DOCTYPE svg PUBLIC \"-//W3C//DTD SVG 1.1//EN\"\n",
       " \"http://www.w3.org/Graphics/SVG/1.1/DTD/svg11.dtd\">\n",
       "<!-- Generated by graphviz version 2.43.0 (0)\n",
       " -->\n",
       "<!-- Title: %3 Pages: 1 -->\n",
       "<svg width=\"107pt\" height=\"188pt\"\n",
       " viewBox=\"0.00 0.00 106.81 188.00\" xmlns=\"http://www.w3.org/2000/svg\" xmlns:xlink=\"http://www.w3.org/1999/xlink\">\n",
       "<g id=\"graph0\" class=\"graph\" transform=\"scale(1 1) rotate(0) translate(4 184)\">\n",
       "<title>%3</title>\n",
       "<polygon fill=\"white\" stroke=\"transparent\" points=\"-4,4 -4,-184 102.81,-184 102.81,4 -4,4\"/>\n",
       "<!-- 0 -->\n",
       "<g id=\"node1\" class=\"node\">\n",
       "<title>0</title>\n",
       "<ellipse fill=\"cyan\" stroke=\"black\" cx=\"49.41\" cy=\"-18\" rx=\"49.31\" ry=\"18\"/>\n",
       "<text text-anchor=\"middle\" x=\"49.41\" y=\"-13.8\" font-family=\"Times,serif\" font-size=\"14.00\">0 : (1, 0, 0)</text>\n",
       "</g>\n",
       "<!-- 1 -->\n",
       "<g id=\"node2\" class=\"node\">\n",
       "<title>1</title>\n",
       "<ellipse fill=\"none\" stroke=\"black\" cx=\"49.41\" cy=\"-90\" rx=\"27\" ry=\"18\"/>\n",
       "<text text-anchor=\"middle\" x=\"49.41\" y=\"-85.8\" font-family=\"Times,serif\" font-size=\"14.00\"> </text>\n",
       "</g>\n",
       "<!-- 1&#45;&gt;0 -->\n",
       "<g id=\"edge1\" class=\"edge\">\n",
       "<title>1&#45;&gt;0</title>\n",
       "<path fill=\"none\" stroke=\"black\" d=\"M49.41,-71.7C49.41,-63.98 49.41,-54.71 49.41,-46.11\"/>\n",
       "<polygon fill=\"black\" stroke=\"black\" points=\"52.91,-46.1 49.41,-36.1 45.91,-46.1 52.91,-46.1\"/>\n",
       "</g>\n",
       "<!-- 2 -->\n",
       "<g id=\"node3\" class=\"node\">\n",
       "<title>2</title>\n",
       "<ellipse fill=\"none\" stroke=\"black\" cx=\"49.41\" cy=\"-162\" rx=\"27\" ry=\"18\"/>\n",
       "<text text-anchor=\"middle\" x=\"49.41\" y=\"-157.8\" font-family=\"Times,serif\" font-size=\"14.00\"> </text>\n",
       "</g>\n",
       "<!-- 2&#45;&gt;1 -->\n",
       "<g id=\"edge2\" class=\"edge\">\n",
       "<title>2&#45;&gt;1</title>\n",
       "<path fill=\"none\" stroke=\"black\" d=\"M49.41,-143.7C49.41,-135.98 49.41,-126.71 49.41,-118.11\"/>\n",
       "<polygon fill=\"black\" stroke=\"black\" points=\"52.91,-118.1 49.41,-108.1 45.91,-118.1 52.91,-118.1\"/>\n",
       "</g>\n",
       "</g>\n",
       "</svg>\n"
      ],
      "text/plain": [
       "<pychomp.DrawGradedComplex.DrawGradedComplex at 0x2265def98>"
      ]
     },
     "execution_count": 44,
     "metadata": {},
     "output_type": "execute_result"
    }
   ],
   "source": [
    "DrawGradedComplex(reduced_base,Poset(scc))"
   ]
  },
  {
   "cell_type": "code",
   "execution_count": 45,
   "metadata": {},
   "outputs": [],
   "source": [
    "# for base_cube in B:\n",
    "#     print(base_cube,B.cell_dim(base_cube),base.geometry(base_cube))"
   ]
  },
  {
   "cell_type": "code",
   "execution_count": null,
   "metadata": {},
   "outputs": [],
   "source": []
  },
  {
   "cell_type": "code",
   "execution_count": 46,
   "metadata": {},
   "outputs": [],
   "source": [
    "#mapping.values()"
   ]
  },
  {
   "cell_type": "code",
   "execution_count": 47,
   "metadata": {},
   "outputs": [],
   "source": [
    "#Junk code ()\n",
    "# inv_mapping = {}\n",
    "# for target in set(mapping.values()):\n",
    "#     inv_mapping[target] = []\n",
    "#     for key in mapping.keys():\n",
    "#         if mapping[key]==target:\n",
    "#             inv_mapping[target] += [key]"
   ]
  },
  {
   "cell_type": "code",
   "execution_count": 48,
   "metadata": {},
   "outputs": [],
   "source": [
    "#inv_mapping"
   ]
  },
  {
   "cell_type": "code",
   "execution_count": 49,
   "metadata": {},
   "outputs": [],
   "source": [
    "# for v in inv_mapping.keys():\n",
    "#     print(\"Component: \" + str(v))\n",
    "#     for base_cube in inv_mapping[v]:\n",
    "#         print(base_cube,B.cell_dim(base_cube),base.geometry(base_cube))"
   ]
  },
  {
   "cell_type": "code",
   "execution_count": 50,
   "metadata": {},
   "outputs": [],
   "source": [
    "# fig, ax = plt.subplots()\n",
    "# plt.title('Parameter Space')\n",
    "\n",
    "# plt.xlabel('a')\n",
    "# plt.ylabel('b')\n",
    "# plt.grid(True)\n",
    "# plt.xticks(a_vert)\n",
    "# plt.yticks(b_vert)\n",
    "# #plt.grid()\n",
    "# plt.xlim(a_min, a_max)\n",
    "# plt.ylim(b_min, b_max)\n",
    "# plt.show()"
   ]
  },
  {
   "cell_type": "code",
   "execution_count": 51,
   "metadata": {},
   "outputs": [
    {
     "data": {
      "text/plain": [
       "(200, 200)"
      ]
     },
     "execution_count": 51,
     "metadata": {},
     "output_type": "execute_result"
    }
   ],
   "source": [
    "data = np.zeros((base.boxes[1],base.boxes[0]))\n",
    "data.shape"
   ]
  },
  {
   "cell_type": "code",
   "execution_count": 52,
   "metadata": {},
   "outputs": [],
   "source": [
    "for top_cell in B(B.dimension()):\n",
    "    if B.rightfringe(top_cell): continue\n",
    "    a,b = B.coordinates(top_cell)\n",
    "    data[b,a] = mapping[top_cell]"
   ]
  },
  {
   "cell_type": "code",
   "execution_count": 53,
   "metadata": {},
   "outputs": [
    {
     "data": {
      "text/plain": [
       "array([[1., 1., 1., ..., 0., 0., 0.],\n",
       "       [1., 1., 1., ..., 0., 0., 0.],\n",
       "       [1., 1., 1., ..., 0., 0., 0.],\n",
       "       ...,\n",
       "       [1., 1., 1., ..., 1., 1., 1.],\n",
       "       [1., 1., 1., ..., 1., 1., 1.],\n",
       "       [1., 1., 1., ..., 1., 1., 1.]])"
      ]
     },
     "execution_count": 53,
     "metadata": {},
     "output_type": "execute_result"
    }
   ],
   "source": [
    "data"
   ]
  },
  {
   "cell_type": "code",
   "execution_count": 54,
   "metadata": {},
   "outputs": [
    {
     "data": {
      "text/plain": [
       "{0.0, 1.0}"
      ]
     },
     "execution_count": 54,
     "metadata": {},
     "output_type": "execute_result"
    }
   ],
   "source": [
    "data_values = set()\n",
    "for i in range(data.shape[0]):\n",
    "    for j in range(data.shape[1]):\n",
    "        data_values.add(data[i,j])\n",
    "data_values"
   ]
  },
  {
   "cell_type": "code",
   "execution_count": 55,
   "metadata": {},
   "outputs": [],
   "source": [
    "#b_vert"
   ]
  },
  {
   "cell_type": "code",
   "execution_count": 56,
   "metadata": {},
   "outputs": [
    {
     "data": {
      "image/png": "[encoded data removed]",
      "text/plain": [
       "<Figure size 432x288 with 1 Axes>"
      ]
     },
     "metadata": {
      "needs_background": "light"
     },
     "output_type": "display_data"
    }
   ],
   "source": [
    "\n",
    "# create discrete colormap\n",
    "cmap = colors.ListedColormap(['red', 'blue'])\n",
    "bounds = [0,10,20]\n",
    "norm = colors.BoundaryNorm(bounds, cmap.N)\n",
    "fig, ax = plt.subplots()\n",
    "\n",
    "ax.imshow(data)\n",
    "#plt.matshow(data)\n",
    "plt.title('Parameter Space')\n",
    "\n",
    "#ax.grid(True)\n",
    "#ax.grid(which='major', axis='both', linestyle='-', color='k', linewidth=2)\n",
    "#ax.set_xticks(a_vert)\n",
    "#ax.set_yticks(b_vert)\n",
    "#ax.imshow(data)\n",
    "# draw gridlines\n",
    "#ax.grid(which='major', axis='both', linestyle='-', color='k', linewidth=2)\n",
    "#plt.xlabel('a')\n",
    "#plt.ylabel('b')\n",
    "#plt.grid(True)\n",
    "#plt.xticks(a_vert)\n",
    "#plt.yticks(b_vert)\n",
    "#plt.xlim(a_min, a_max)\n",
    "#plt.ylim(b_min, b_max)\n",
    "plt.show()"
   ]
  },
  {
   "cell_type": "code",
   "execution_count": 57,
   "metadata": {},
   "outputs": [],
   "source": [
    "# for top_cell in B(B.dimension()):\n",
    "#     print(top_cell,B.coordinates(top_cell))"
   ]
  },
  {
   "cell_type": "code",
   "execution_count": 58,
   "metadata": {},
   "outputs": [
    {
     "data": {
      "image/png": "[encoded data removed]",
      "text/plain": [
       "<Figure size 432x288 with 2 Axes>"
      ]
     },
     "metadata": {
      "needs_background": "light"
     },
     "output_type": "display_data"
    }
   ],
   "source": [
    "xmin,xmax = base.bounds[0]\n",
    "ymin,ymax = base.bounds[1]\n",
    "plt.imshow(data,extent=[xmin,xmax,ymin,ymax],origin='lower')\n",
    "plt.colorbar()\n",
    "x = np.linspace(xmin, xmax, 100)\n",
    "y = np.linspace(ymin, ymax, 100)\n",
    "X, Y = np.meshgrid(x,y)\n",
    "if model_name.lower()=='cusp':\n",
    "    F = 4*X**3-27*Y**2\n",
    "    plt.contour(X,Y,F,[0],colors=('b'))\n",
    "if model_name.lower()=='double_cusp':\n",
    "    F = 4*X**3-27*Y**2\n",
    "    plt.contour(X,Y,F,[0],colors=('r'))\n",
    "#plt.show()"
   ]
  },
  {
   "cell_type": "code",
   "execution_count": 59,
   "metadata": {},
   "outputs": [],
   "source": [
    "#Plot data matrix of number of nontrivial indices\n",
    "data = np.zeros((base.boxes[1],base.boxes[0]))\n",
    "for top_cell in B(B.dimension()):\n",
    "    if B.rightfringe(top_cell): continue\n",
    "    a,b = B.coordinates(top_cell)\n",
    "    #print(a,b)\n",
    "    data[(base.boxes[1]-1)-b,a] = conley_sheaf.mapping[top_cell].graded_complex.complex().size()"
   ]
  },
  {
   "cell_type": "code",
   "execution_count": 60,
   "metadata": {},
   "outputs": [
    {
     "data": {
      "text/plain": [
       "array([[1., 1., 1., ..., 1., 1., 1.],\n",
       "       [1., 1., 1., ..., 1., 1., 1.],\n",
       "       [1., 1., 1., ..., 1., 1., 1.],\n",
       "       ...,\n",
       "       [1., 1., 1., ..., 3., 3., 3.],\n",
       "       [1., 1., 1., ..., 3., 3., 3.],\n",
       "       [1., 1., 1., ..., 3., 3., 3.]])"
      ]
     },
     "execution_count": 60,
     "metadata": {},
     "output_type": "execute_result"
    }
   ],
   "source": [
    "data"
   ]
  },
  {
   "cell_type": "code",
   "execution_count": 61,
   "metadata": {},
   "outputs": [
    {
     "data": {
      "image/png": "[encoded data removed]",
      "text/plain": [
       "<Figure size 432x288 with 1 Axes>"
      ]
     },
     "metadata": {
      "needs_background": "light"
     },
     "output_type": "display_data"
    }
   ],
   "source": [
    "cmap = colors.ListedColormap(['red', 'blue'])\n",
    "bounds = [0,10,20]\n",
    "norm = colors.BoundaryNorm(bounds, cmap.N)\n",
    "fig, ax = plt.subplots()\n",
    "\n",
    "ax.imshow(data)\n",
    "#plt.matshow(data)\n",
    "plt.title('Parameter Space')\n",
    "\n",
    "#ax.grid(True)\n",
    "#ax.grid(which='major', axis='both', linestyle='-', color='k', linewidth=2)\n",
    "#ax.set_xticks(a_vert)\n",
    "#ax.set_yticks(b_vert)\n",
    "#ax.imshow(data)\n",
    "# draw gridlines\n",
    "#ax.grid(which='major', axis='both', linestyle='-', color='k', linewidth=2)\n",
    "#plt.xlabel('a')\n",
    "#plt.ylabel('b')\n",
    "#plt.grid(True)\n",
    "#plt.xticks(a_vert)\n",
    "#plt.yticks(b_vert)\n",
    "#plt.xlim(a_min, a_max)\n",
    "#plt.ylim(b_min, b_max)\n",
    "plt.show()"
   ]
  },
  {
   "cell_type": "code",
   "execution_count": null,
   "metadata": {},
   "outputs": [],
   "source": []
  }
 ],
 "metadata": {
  "kernelspec": {
   "display_name": "Python 3",
   "language": "python",
   "name": "python3"
  },
  "language_info": {
   "codemirror_mode": {
    "name": "ipython",
    "version": 3
   },
   "file_extension": ".py",
   "mimetype": "text/x-python",
   "name": "python",
   "nbconvert_exporter": "python",
   "pygments_lexer": "ipython3",
   "version": "3.7.3"
  }
 },
 "nbformat": 4,
 "nbformat_minor": 2
}
